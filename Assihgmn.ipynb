{
 "cells": [
  {
   "cell_type": "code",
   "execution_count": null,
   "id": "a6df3a28-0904-47aa-9299-c518d1f22928",
   "metadata": {},
   "outputs": [],
   "source": [
    "class Solution:\n",
    "    def threeSumClosest(self, nums: List[int], target: int) -> int:\n",
    "        s=float('inf')\n",
    "        t=len(nums)\n",
    "        nums.sort()\n",
    "        for x in range(t-2):\n",
    "            i=x+1\n",
    "            j=t-1\n",
    "            while i<j:\n",
    "                s1=nums[x]+nums[i]+nums[j]\n",
    "                #print(x,i,j,'here')\n",
    "                if s1==target:\n",
    "                    return target\n",
    "                if abs(target-s)>abs(target-s1):\n",
    "                    #print(x,i,j,'-------',s1)\n",
    "                    s=s1\n",
    "                if s1<target:\n",
    "                    i+=1\n",
    "                else:\n",
    "                    j-=1\n",
    "        return s"
   ]
  },
  {
   "cell_type": "code",
   "execution_count": null,
   "id": "7f14811b-2653-454b-bb94-10623fab18d3",
   "metadata": {},
   "outputs": [],
   "source": []
  },
  {
   "cell_type": "code",
   "execution_count": null,
   "id": "cd94947a-a928-413d-8dd9-b254445f9dec",
   "metadata": {},
   "outputs": [],
   "source": []
  },
  {
   "cell_type": "code",
   "execution_count": null,
   "id": "f4a3ee94-e9aa-4e01-82ac-1a052efd6dc3",
   "metadata": {},
   "outputs": [],
   "source": [
    "class Solution:\n",
    "    def fourSum(self, arr: List[int], target: int) -> List[List[int]]:\n",
    "        arr.sort()\n",
    "        res = []\n",
    "        ans = []\n",
    "        for i in range(len(arr)-3):\n",
    "            for j in range(i+1, len(arr)-1):\n",
    "                l = j+1\n",
    "                r = len(arr) - 1\n",
    "                while l < r:\n",
    "                    if arr[i] + arr[j] + arr[l] + arr[r] == target:\n",
    "                        res.append((arr[i], arr[j], arr[l], arr[r]))\n",
    "                        l += 1\n",
    "                        r -= 1\n",
    "                    elif arr[i] + arr[j] + arr[l] + arr[r] > target:\n",
    "                        r -= 1\n",
    "                    else:\n",
    "                        l += 1\n",
    "        for i in list(set(res)):\n",
    "            ans.append(list(i))\n",
    "        return ans"
   ]
  },
  {
   "cell_type": "code",
   "execution_count": null,
   "id": "260b3084-bf2f-4981-a710-00feddf0d045",
   "metadata": {},
   "outputs": [],
   "source": []
  },
  {
   "cell_type": "code",
   "execution_count": null,
   "id": "c205d449-5cc9-40c1-8f46-56fc6f27daa1",
   "metadata": {},
   "outputs": [],
   "source": []
  },
  {
   "cell_type": "code",
   "execution_count": null,
   "id": "5f3daec1-97e5-488a-901e-9b855a0e1210",
   "metadata": {},
   "outputs": [],
   "source": [
    "class Solution(object):\n",
    "    def nextPermutation(self, nums):\n",
    "        n = len(nums)\n",
    "        k, l = n - 2, n - 1\n",
    "        while k >= 0 and nums[k] >= nums[k + 1]:\n",
    "            k -= 1\n",
    "        if k < 0:\n",
    "            nums.reverse()\n",
    "        else:\n",
    "            while l > k and nums[l] <= nums[k]:\n",
    "                l -= 1\n",
    "            nums[k], nums[l] = nums[l], nums[k]\n",
    "            nums[k + 1:n] = reversed(nums[k + 1:n])\n"
   ]
  },
  {
   "cell_type": "code",
   "execution_count": null,
   "id": "57abdb4a-b158-4a19-8f9a-095076b0349d",
   "metadata": {},
   "outputs": [],
   "source": []
  },
  {
   "cell_type": "code",
   "execution_count": null,
   "id": "36fb1eb8-64aa-4c40-8ad9-a9f6643e10a2",
   "metadata": {},
   "outputs": [],
   "source": []
  },
  {
   "cell_type": "code",
   "execution_count": null,
   "id": "4d24f435-446a-4649-9fba-1019acb87cab",
   "metadata": {},
   "outputs": [],
   "source": [
    "def sortArray(self, nums: List[int]) -> List[int]:\n",
    "        cnts={}\n",
    "        index=0\n",
    "        min_value,max_value=min(nums),max(nums)\n",
    "        for i in nums:\n",
    "            cnts[i]=cnts.get(i,0)+1\n",
    "        for i in range(min_value,max_value+1):\n",
    "            while cnts.get(i,0)>0:\n",
    "                nums[index]=i\n",
    "                index+=1\n",
    "                cnts[i]-=1\n",
    "        return nums"
   ]
  },
  {
   "cell_type": "code",
   "execution_count": null,
   "id": "c9f586a0-7175-4628-8c32-a7e140adf2f4",
   "metadata": {},
   "outputs": [],
   "source": []
  },
  {
   "cell_type": "code",
   "execution_count": null,
   "id": "f1887b2b-55d0-426e-8396-c7045eadf70a",
   "metadata": {},
   "outputs": [],
   "source": []
  },
  {
   "cell_type": "code",
   "execution_count": null,
   "id": "f809971e-ecc9-45f8-931d-d379bbf01d59",
   "metadata": {},
   "outputs": [],
   "source": [
    "class Solution(object):\n",
    "    def plusOne(self, digits):\n",
    "        \"\"\"\n",
    "        :type digits: List[int]\n",
    "        :rtype: List[int]\n",
    "        \"\"\"\n",
    "        digits=[str(i) for i in digits]\n",
    "        s=''.join(digits)\n",
    "        a=int(s)+1\n",
    "        l=list(str(a))\n",
    "        l=[int(i) for i in l]\n",
    "        return l"
   ]
  },
  {
   "cell_type": "code",
   "execution_count": null,
   "id": "1f862ca2-f0f1-41ef-92d9-d46b930d27f4",
   "metadata": {},
   "outputs": [],
   "source": []
  },
  {
   "cell_type": "code",
   "execution_count": null,
   "id": "a3cd0549-4a8c-4e3a-82e6-ed1b767ad81b",
   "metadata": {},
   "outputs": [],
   "source": []
  },
  {
   "cell_type": "code",
   "execution_count": null,
   "id": "a4a3ea41-59d2-4f31-b598-20f392c5571f",
   "metadata": {},
   "outputs": [],
   "source": [
    "class Solution(object):\n",
    "    def singleNumber(self, nums):\n",
    "        # Initialize the unique number...\n",
    "        uniqNum = 0;\n",
    "        # TRaverse all elements through the loop...\n",
    "        for idx in nums:\n",
    "            # Concept of XOR...\n",
    "            uniqNum ^= idx;\n",
    "        return uniqNum;"
   ]
  },
  {
   "cell_type": "code",
   "execution_count": null,
   "id": "0f5568c7-09d8-4fef-afc8-28ac20fd12f3",
   "metadata": {},
   "outputs": [],
   "source": []
  },
  {
   "cell_type": "code",
   "execution_count": null,
   "id": "caa8229c-970f-4702-9047-1d7b3256b6cb",
   "metadata": {},
   "outputs": [],
   "source": []
  },
  {
   "cell_type": "code",
   "execution_count": null,
   "id": "fbf1e49f-da5b-4ea0-9176-1f66d6702aee",
   "metadata": {},
   "outputs": [],
   "source": [
    "class Solution:\n",
    "    def findMissingRanges(self, nums: List[int], lower: int, upper: int) -> List[str]:\n",
    "        def f(a, b):\n",
    "            return str(a) if a == b else f'{a}->{b}'\n",
    "\n",
    "        n = len(nums)\n",
    "        if n == 0:\n",
    "            return [f(lower, upper)]\n",
    "        ans = []\n",
    "        if nums[0] > lower:\n",
    "            ans.append(f(lower, nums[0] - 1))\n",
    "        for a, b in pairwise(nums):\n",
    "            if b - a > 1:\n",
    "                ans.append(f(a + 1, b - 1))\n",
    "        if nums[-1] < upper:\n",
    "            ans.append(f(nums[-1] + 1, upper))\n",
    "        return ans"
   ]
  },
  {
   "cell_type": "code",
   "execution_count": null,
   "id": "ced1c85d-9c44-4dde-a43f-f1034ab8789a",
   "metadata": {},
   "outputs": [],
   "source": []
  },
  {
   "cell_type": "code",
   "execution_count": null,
   "id": "6abd337f-6fce-4a36-aac9-4c5a1891c93c",
   "metadata": {},
   "outputs": [],
   "source": []
  },
  {
   "cell_type": "code",
   "execution_count": null,
   "id": "0f792dc4-fe80-4158-bfbb-b7d5fbfcea85",
   "metadata": {},
   "outputs": [],
   "source": [
    "public class MeetingRooms {\n",
    "\tpublic static boolean canAttend(int[][] intervals){\n",
    "\t\tif(intervals == null || intervals.length == 0) return true;\n",
    "\t\tfor(int i = 1; i < intervals.length; i++){\n",
    "\t\t\tif(intervals[i][0] < intervals[i - 1][1])\n",
    "\t\t\t\treturn false;\n",
    "\t\t}\n",
    "\t\treturn true;\n",
    "\t}\n",
    "\tpublic static void main(String[] args) {\n",
    "\t\tint[][] t = {{0, 3}, {5, 10}, {15, 20}};\n",
    "\t\tSystem.out.println(canAttend(t));\n",
    "\t}\n",
    "}"
   ]
  },
  {
   "cell_type": "code",
   "execution_count": null,
   "id": "5484bc8b-5262-4116-a92f-bf5a8a0c65d4",
   "metadata": {},
   "outputs": [],
   "source": []
  },
  {
   "cell_type": "code",
   "execution_count": null,
   "id": "a47b87e0-6f96-4b89-89d4-9b13ce967e9f",
   "metadata": {},
   "outputs": [],
   "source": []
  }
 ],
 "metadata": {
  "kernelspec": {
   "display_name": "Python 3 (ipykernel)",
   "language": "python",
   "name": "python3"
  },
  "language_info": {
   "codemirror_mode": {
    "name": "ipython",
    "version": 3
   },
   "file_extension": ".py",
   "mimetype": "text/x-python",
   "name": "python",
   "nbconvert_exporter": "python",
   "pygments_lexer": "ipython3",
   "version": "3.10.6"
  }
 },
 "nbformat": 4,
 "nbformat_minor": 5
}
