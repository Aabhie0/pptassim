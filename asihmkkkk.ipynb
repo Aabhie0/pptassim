{
 "cells": [
  {
   "cell_type": "code",
   "execution_count": null,
   "id": "fc19ae8b-c998-41fa-98a6-9442f3c8b83c",
   "metadata": {},
   "outputs": [],
   "source": []
  },
  {
   "cell_type": "code",
   "execution_count": null,
   "id": "bfd486eb-864c-4bc5-9f6a-28defc4a423e",
   "metadata": {},
   "outputs": [],
   "source": [
    "class Solution(object):\n",
    "    def moveZeroes(self, nums):\n",
    "        n=len(nums)\n",
    "        for i in range(0,n):\n",
    "            if nums[i]==0:\n",
    "                nums.remove(nums[i])\n",
    "                nums.append(0)\n",
    "        return nums"
   ]
  }
 ],
 "metadata": {
  "kernelspec": {
   "display_name": "Python 3 (ipykernel)",
   "language": "python",
   "name": "python3"
  },
  "language_info": {
   "codemirror_mode": {
    "name": "ipython",
    "version": 3
   },
   "file_extension": ".py",
   "mimetype": "text/x-python",
   "name": "python",
   "nbconvert_exporter": "python",
   "pygments_lexer": "ipython3",
   "version": "3.10.6"
  }
 },
 "nbformat": 4,
 "nbformat_minor": 5
}
