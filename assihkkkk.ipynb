{
 "cells": [
  {
   "cell_type": "code",
   "execution_count": null,
   "id": "4c023990-106d-4be8-9d43-f05bbdbf0ce2",
   "metadata": {},
   "outputs": [],
   "source": [
    "import math\n",
    " \n",
    "def is_power_of_3(n):\n",
    "    if n <= 0:\n",
    "        return False\n",
    "    return math.log(n, 3).is_integer()\n",
    "print(is_power_of_3(9))\n",
    "print(is_power_of_3(47))\n",
    "print(is_power_of_3(45))"
   ]
  },
  {
   "cell_type": "code",
   "execution_count": null,
   "id": "cb158f66-cad2-4afc-b49d-a9e9690bbc6d",
   "metadata": {},
   "outputs": [],
   "source": []
  },
  {
   "cell_type": "code",
   "execution_count": null,
   "id": "1c534269-4304-48e2-9161-011d6cbcd83b",
   "metadata": {},
   "outputs": [],
   "source": [
    "def removeAlternate(n):\n",
    "    if (n == 1):\n",
    "        return 1\n",
    " \n",
    "    if (n % 2 == 0):\n",
    "        return 2\n",
    "               * removeAlternate(n / 2)\n",
    "               - 1\n",
    "    else:\n",
    "        return 2\n",
    "               * removeAlternate(((n - 1) / 2))\n",
    "               + 1\n",
    " \n",
    "        n = `\n",
    "    print(removeAlternate(n))\n",
    "        n = `\n",
    "    print(removeAlternate(n))   \n",
    "    "
   ]
  },
  {
   "cell_type": "code",
   "execution_count": null,
   "id": "72164ee1-d0ec-4528-8c8a-36bec21759ba",
   "metadata": {},
   "outputs": [],
   "source": []
  },
  {
   "cell_type": "code",
   "execution_count": null,
   "id": "1c276cf7-9f23-43f8-b4b0-670f39790cc3",
   "metadata": {},
   "outputs": [],
   "source": [
    "def powerSet(str1, index, curr):\n",
    "    n = len(str1)\n",
    " \n",
    "    # base case\n",
    "    if (index == n):\n",
    "        return\n",
    " \n",
    "    # First print current subset\n",
    "    print(curr)\n",
    " \n",
    "    # Try appending remaining characters\n",
    "    # to current subset\n",
    "    for i in range(index + 1, n):\n",
    "        curr += str1[i]\n",
    "        powerSet(str1, i, curr)\n",
    "        \n",
    "        curr = curr.replace(curr[len(curr) - 1], \"\")\n",
    "    return\n",
    "\n",
    "    if __name__ == '__main__':\n",
    "        str = \"abc\"\n",
    "        powerSet(str, -1, \"\")\n",
    " \n",
    " "
   ]
  },
  {
   "cell_type": "code",
   "execution_count": null,
   "id": "12e0180a-33c6-49cf-b08b-68e018c90c67",
   "metadata": {},
   "outputs": [],
   "source": []
  },
  {
   "cell_type": "code",
   "execution_count": null,
   "id": "a61f99e1-a47a-4c65-840a-fc5a4d0c3792",
   "metadata": {},
   "outputs": [],
   "source": [
    "str = \"kkkkkkkkkkkkkk\"\n",
    "def string_length(str) :\n",
    "     \n",
    "    # if we reach at the\n",
    "    # end of the string\n",
    "    if str == '':\n",
    "        return 0\n",
    "    else :\n",
    "        return 1 + string_length(str[1:])\n",
    "     \n",
    "print (string_length(str))\n",
    "\n",
    "\n",
    "\n",
    "\n"
   ]
  },
  {
   "cell_type": "code",
   "execution_count": null,
   "id": "aedb60cd-e3ed-4cca-a878-868c220776d3",
   "metadata": {},
   "outputs": [],
   "source": []
  },
  {
   "cell_type": "code",
   "execution_count": null,
   "id": "98b10f16-e7ff-429f-8f4d-417c274e7ba3",
   "metadata": {},
   "outputs": [],
   "source": [
    "def countSubstringWithEqualEnds(s):\n",
    " \n",
    "    result = 0;\n",
    "    n = len(s);\n",
    "    \n",
    "    for i in range(n):\n",
    "        for j in range(i, n):\n",
    "            if (s[i] == s[j]):\n",
    "                result = result + 1\n",
    " \n",
    "    return result\n",
    "s = \"abchhhhhab\";\n",
    "print(countSubstringWithEqualEnds(s))"
   ]
  },
  {
   "cell_type": "code",
   "execution_count": null,
   "id": "2deea7b8-a74b-474d-afa9-2df08c38ff01",
   "metadata": {},
   "outputs": [],
   "source": []
  },
  {
   "cell_type": "code",
   "execution_count": null,
   "id": "597e83ef-5f51-40d9-95bb-b8029a1b6ac8",
   "metadata": {},
   "outputs": [],
   "source": [
    "def move(disks, source=1, auxiliary=2, target=3):\n",
    " \n",
    "    if disks > 0:\n",
    " \n",
    "        # move `n-1` discs from source to auxiliary using the target\n",
    "        # as an intermediate pole\n",
    "        move(disks - 1, source, target, auxiliary)\n",
    " \n",
    "        # move one disc from source to target\n",
    "        print(f'Move disk {disks} from {source} —> {target}')\n",
    " \n",
    "        # move `n-1` discs from auxiliary to target using the source\n",
    "        # as an intermediate pole\n",
    "        move(disks - 1, auxiliary, source, target)\n",
    " \n",
    " \n",
    "# Tower of Hanoi Problem\n",
    "if __name__ == '__main__':\n",
    " \n",
    "    n = 3\n",
    "    move(n)"
   ]
  },
  {
   "cell_type": "code",
   "execution_count": null,
   "id": "a3cfad47-32f2-4930-8332-464561dab4d9",
   "metadata": {},
   "outputs": [],
   "source": []
  },
  {
   "cell_type": "code",
   "execution_count": null,
   "id": "6cf43197-f3c9-45e3-81ce-e0a4b0ce3b8f",
   "metadata": {},
   "outputs": [],
   "source": [
    "def toString(List):\n",
    "    return ''.join(List)\n",
    "def permute(a, l, r):\n",
    "    if l == r:\n",
    "        print(toString(a))\n",
    "    else:\n",
    "        for i in range(l, r):\n",
    "            a[l], a[i] = a[i], a[l]\n",
    "            permute(a, l+1, r)\n",
    "            a[l], a[i] = a[i], a[l] \n",
    "            string = \"ABC\"\n",
    "n = len(string)\n",
    "a = list(string)\n",
    " \n",
    "# Function call\n",
    "permute(a, 0, n)"
   ]
  },
  {
   "cell_type": "code",
   "execution_count": null,
   "id": "35d2f4e2-9602-4171-9e3d-3aedc4ad878b",
   "metadata": {},
   "outputs": [],
   "source": []
  },
  {
   "cell_type": "code",
   "execution_count": null,
   "id": "0bf08e6b-a6d2-4b5a-aa61-d4f9a1632045",
   "metadata": {},
   "outputs": [],
   "source": []
  },
  {
   "cell_type": "code",
   "execution_count": null,
   "id": "27ac858e-b435-4994-9ede-82da8dad71f3",
   "metadata": {},
   "outputs": [],
   "source": []
  },
  {
   "cell_type": "code",
   "execution_count": null,
   "id": "d9122e65-2a32-435d-a368-ed510ffab913",
   "metadata": {},
   "outputs": [],
   "source": []
  },
  {
   "cell_type": "code",
   "execution_count": null,
   "id": "eb391a25-e40c-4c76-9d51-30493e79859b",
   "metadata": {},
   "outputs": [],
   "source": []
  },
  {
   "cell_type": "code",
   "execution_count": null,
   "id": "0b22df45-37df-491b-8dc8-b6e887947ae0",
   "metadata": {},
   "outputs": [],
   "source": []
  },
  {
   "cell_type": "code",
   "execution_count": null,
   "id": "d548da54-f4b6-4d32-82d5-fe8684b51245",
   "metadata": {},
   "outputs": [],
   "source": []
  }
 ],
 "metadata": {
  "kernelspec": {
   "display_name": "Python 3 (ipykernel)",
   "language": "python",
   "name": "python3"
  },
  "language_info": {
   "codemirror_mode": {
    "name": "ipython",
    "version": 3
   },
   "file_extension": ".py",
   "mimetype": "text/x-python",
   "name": "python",
   "nbconvert_exporter": "python",
   "pygments_lexer": "ipython3",
   "version": "3.10.6"
  }
 },
 "nbformat": 4,
 "nbformat_minor": 5
}
