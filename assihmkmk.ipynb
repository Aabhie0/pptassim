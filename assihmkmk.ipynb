{
 "cells": [
  {
   "cell_type": "code",
   "execution_count": null,
   "id": "baa2346a-4727-4c5a-ade2-28aea107575b",
   "metadata": {},
   "outputs": [],
   "source": [
    "class Solution:\n",
    "    def diStringMatch(self, s: str) -> List[int]:\n",
    "        res = []\n",
    "        low, high = 0, len(s)\n",
    "        for c in s:\n",
    "            if c == 'I':\n",
    "                res.append(low)\n",
    "                low += 1\n",
    "            else:\n",
    "                res.append(high)\n",
    "                high -= 1\n",
    "        \n",
    "        res.append(low)\n",
    "        return res"
   ]
  },
  {
   "cell_type": "code",
   "execution_count": null,
   "id": "08bc38e5-898c-4f2f-ade9-9b9f2ed391ac",
   "metadata": {},
   "outputs": [],
   "source": []
  },
  {
   "cell_type": "code",
   "execution_count": null,
   "id": "3771fc07-e215-4c26-ae03-7d29a28e2e31",
   "metadata": {},
   "outputs": [],
   "source": [
    "class Solution:\n",
    "    def searchMatrix(self, matrix: List[List[int]], target: int) -> bool:\n",
    "        R, C = len(matrix), len(matrix[0])\n",
    "        l, r = 0, R*C-1\n",
    "\n",
    "        while l <= r:\n",
    "            mid = l + (r-l)//2\n",
    "            row, col = mid // C, mid % C\n",
    "            if matrix[row][col] < target:\n",
    "                l = mid + 1\n",
    "            elif matrix[row][col] > target:\n",
    "                r = mid - 1\n",
    "            else:\n",
    "                return True"
   ]
  },
  {
   "cell_type": "code",
   "execution_count": null,
   "id": "06eb31a7-a6ed-4e28-8e58-b51d6a3a1a8e",
   "metadata": {},
   "outputs": [],
   "source": []
  },
  {
   "cell_type": "code",
   "execution_count": null,
   "id": "ff7b281b-9e9f-4482-8c2b-db2a8f955217",
   "metadata": {},
   "outputs": [],
   "source": [
    "class Solution:\n",
    "    def validMountainArray(self, arr: List[int]) -> bool:\n",
    "        if len(arr) < 3: return False;\n",
    "        l = 0;\n",
    "        r = len(arr) - 1\n",
    "        while l + 1 < len(arr) - 1 and arr[l] < arr[l + 1]: \n",
    "            l += 1\n",
    "        while r - 1 > 0 and arr[r] < arr[r - 1]: \n",
    "            r -= 1\n",
    "        return l == r"
   ]
  },
  {
   "cell_type": "code",
   "execution_count": null,
   "id": "166cf30d-45d2-4e82-b140-c5627ed597b2",
   "metadata": {},
   "outputs": [],
   "source": []
  },
  {
   "cell_type": "code",
   "execution_count": null,
   "id": "b42601f5-ff97-452f-b217-c4a2e9fbada3",
   "metadata": {},
   "outputs": [],
   "source": [
    "class Solution:\n",
    "    def findMaxLength(self, nums: List[int]) -> int:\n",
    "\t\t# Saves the index of the first occurence of a given difference\n",
    "        firstIndex = {0: -1}\n",
    "        freq = [0, 0]\n",
    "        maxlen = 0\n",
    "        for i, x in enumerate(nums):\n",
    "            freq[x] += 1\n",
    "            diff = freq[1]-freq[0]\n",
    "\t\t\t# We look to find a subarray starting at index 0 that would cancel out our current difference\n",
    "            if diff in firstIndex:\n",
    "                maxlen = max(maxlen, i-firstIndex[diff])\n",
    "            if diff not in firstIndex:\n",
    "                firstIndex[diff] = i\n",
    "        return maxlen"
   ]
  },
  {
   "cell_type": "code",
   "execution_count": null,
   "id": "25e91b18-9cf0-4749-ad41-b1ff69e37832",
   "metadata": {},
   "outputs": [],
   "source": []
  },
  {
   "cell_type": "code",
   "execution_count": null,
   "id": "6258c6ec-d395-4cc5-991b-48a6403bda88",
   "metadata": {},
   "outputs": [],
   "source": [
    "class Solution:\n",
    "    def minProductSum(self, nums1: List[int], nums2: List[int]) -> int:\n",
    "        nums1.sort()\n",
    "        nums2.sort()\n",
    "        n, res = len(nums1), 0\n",
    "        for i in range(n):\n",
    "            res += nums1[i] * nums2[n - i - 1]\n",
    "        return res"
   ]
  },
  {
   "cell_type": "code",
   "execution_count": null,
   "id": "11af0517-145e-421c-9c60-8f1ec811bf62",
   "metadata": {},
   "outputs": [],
   "source": []
  },
  {
   "cell_type": "code",
   "execution_count": null,
   "id": "fa738323-8153-4ba0-8ef0-7976478c33aa",
   "metadata": {},
   "outputs": [],
   "source": [
    "class Solution:\n",
    "    def findOriginalArray(self, changed: List[int]) -> List[int]:\n",
    "        changed.sort()\n",
    "        stk,res=deque([]),[]\n",
    "        for i in changed:\n",
    "            if stk and stk[0]*2==i:\n",
    "                b=stk.popleft()\n",
    "                res.append(b)\n",
    "            else:\n",
    "                stk.append(i)\n",
    "        return res if not stk else []"
   ]
  },
  {
   "cell_type": "code",
   "execution_count": null,
   "id": "a7bfbe9a-80d6-4732-8a69-9b48b2f9d72b",
   "metadata": {},
   "outputs": [],
   "source": []
  },
  {
   "cell_type": "code",
   "execution_count": null,
   "id": "85809e81-2ba5-4898-87da-8c011ed58dea",
   "metadata": {},
   "outputs": [],
   "source": [
    "class Solution(object):\n",
    "    def generateMatrix(self, n):\n",
    "\n",
    "        r1 = 0\n",
    "        r2 = n -1 \n",
    "        c1 = 0\n",
    "        c2 = n -1\n",
    "        \n",
    "        res = [[0 for i in range(n)] for i in range(n)]\n",
    "        print(res)\n",
    "        k = 1\n",
    "        while(r1<=r2 and c1 <= c2):\n",
    "            for i in range(r1,r2+1):\n",
    "                res[r1][i] = k\n",
    "                k+=1\n",
    "\n",
    "            for i in range(c1+1,c2+1):\n",
    "                res[i][c2]=k\n",
    "                k+=1\n",
    "\n",
    "            for i in range(r2-1,r1-1,-1):\n",
    "                res[c2][i] = k\n",
    "                k+=1\n",
    "\n",
    "            for i in range(c2-1,c1,-1):\n",
    "                res[i][c1] = k\n",
    "                k+=1\n",
    "\n",
    "            r1+=1\n",
    "            c1+=1\n",
    "            c2-=1\n",
    "            r2-=1\n",
    "            \n",
    "        return res"
   ]
  },
  {
   "cell_type": "code",
   "execution_count": null,
   "id": "929cf945-50dc-49f0-a37f-f1535909b4a3",
   "metadata": {},
   "outputs": [],
   "source": []
  },
  {
   "cell_type": "code",
   "execution_count": null,
   "id": "1cf4bb98-964b-43c3-892b-f1d6433a79d6",
   "metadata": {},
   "outputs": [],
   "source": [
    "class Solution(object):\n",
    "  def multiply(self, A, B):\n",
    "    \"\"\"\n",
    "    :type A: List[List[int]]\n",
    "    :type B: List[List[int]]\n",
    "    :rtype: List[List[int]]\n",
    "    \"\"\"\n",
    "    ret = [[0 for j in range(len(B[0]))] for i in range(len(A))]\n",
    "\n",
    "    for i, row in enumerate(A):\n",
    "      for k, a in enumerate(row):\n",
    "        if a:\n",
    "          for j, b in enumerate(B[k]):\n",
    "            if b:\n",
    "              ret[i][j] += a * b\n",
    "    return ret"
   ]
  },
  {
   "cell_type": "code",
   "execution_count": null,
   "id": "44997b44-cf73-4903-8b7f-2a7578281d50",
   "metadata": {},
   "outputs": [],
   "source": []
  },
  {
   "cell_type": "code",
   "execution_count": null,
   "id": "c9171463-cbc4-419d-9492-857ef33cf86f",
   "metadata": {},
   "outputs": [],
   "source": []
  }
 ],
 "metadata": {
  "kernelspec": {
   "display_name": "Python 3 (ipykernel)",
   "language": "python",
   "name": "python3"
  },
  "language_info": {
   "codemirror_mode": {
    "name": "ipython",
    "version": 3
   },
   "file_extension": ".py",
   "mimetype": "text/x-python",
   "name": "python",
   "nbconvert_exporter": "python",
   "pygments_lexer": "ipython3",
   "version": "3.10.6"
  }
 },
 "nbformat": 4,
 "nbformat_minor": 5
}
