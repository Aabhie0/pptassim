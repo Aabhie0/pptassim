{
 "cells": [
  {
   "cell_type": "code",
   "execution_count": null,
   "id": "05e39d09-45fb-4a75-bf28-706e5eb47ec7",
   "metadata": {},
   "outputs": [],
   "source": [
    "class Solution:\n",
    "    def arraysIntersection(\n",
    "        self, arr1: List[int], arr2: List[int], arr3: List[int]\n",
    "    ) -> List[int]:\n",
    "        def find(arr, val):\n",
    "            left, right = 0, len(arr) - 1\n",
    "            while left < right:\n",
    "                mid = (left + right) >> 1\n",
    "                if arr[mid] >= val:\n",
    "                    right = mid\n",
    "                else:\n",
    "                    left = mid + 1\n",
    "            return arr[left] == val\n",
    "\n",
    "        res = []\n",
    "        for num in arr1:\n",
    "            if find(arr2, num) and find(arr3, num):\n",
    "                res.append(num)\n",
    "        return res"
   ]
  },
  {
   "cell_type": "code",
   "execution_count": null,
   "id": "adb51c7b-a7e6-44bd-84ef-5e62f0eb2cad",
   "metadata": {},
   "outputs": [],
   "source": []
  },
  {
   "cell_type": "code",
   "execution_count": null,
   "id": "8f6dd915-4088-41ca-bfef-94350db158d8",
   "metadata": {},
   "outputs": [],
   "source": []
  },
  {
   "cell_type": "code",
   "execution_count": null,
   "id": "e5b27f31-2933-4aeb-8f1f-7f981633fcdb",
   "metadata": {},
   "outputs": [],
   "source": [
    "class Solution(object):\n",
    "    def findDifference(self, nums1, nums2):\n",
    "        \"\"\"\n",
    "        :type nums1: List[int]\n",
    "        :type nums2: List[int]\n",
    "        :rtype: List[List[int]]\n",
    "        \"\"\"\n",
    "        l1=list(set(nums1)-set(nums2))\n",
    "        l2=list(set(nums2)-set(nums1))\n",
    "        return [l1,l2]"
   ]
  },
  {
   "cell_type": "code",
   "execution_count": null,
   "id": "6e2db62c-0df8-40f3-a6b1-455dc1d04ede",
   "metadata": {},
   "outputs": [],
   "source": []
  },
  {
   "cell_type": "code",
   "execution_count": null,
   "id": "1daf07a3-8e44-48a1-9a75-7286abdb6ef6",
   "metadata": {},
   "outputs": [],
   "source": []
  },
  {
   "cell_type": "code",
   "execution_count": null,
   "id": "28e9e30c-5dc5-4eb8-b56b-e8eedb58ba8f",
   "metadata": {},
   "outputs": [],
   "source": [
    "class Solution:\n",
    "    def transpose(self, matrix: List[List[int]]) -> List[List[int]]:\n",
    "        return [e for e in zip(*matrix)]"
   ]
  },
  {
   "cell_type": "code",
   "execution_count": null,
   "id": "fba32f9e-91e5-4562-af24-1f12524b4400",
   "metadata": {},
   "outputs": [],
   "source": []
  },
  {
   "cell_type": "code",
   "execution_count": null,
   "id": "33ef5268-d875-405e-9578-584de944720c",
   "metadata": {},
   "outputs": [],
   "source": []
  },
  {
   "cell_type": "code",
   "execution_count": null,
   "id": "84521a5c-1dfd-4c35-862a-354326fb77d4",
   "metadata": {},
   "outputs": [],
   "source": [
    "class Solution(object):\n",
    "    def arrayPairSum(self, nums):\n",
    "        \"\"\"\n",
    "        :type nums: List[int]\n",
    "        :rtype: int\n",
    "        \"\"\"\n",
    "        nums.sort()\n",
    "        result = 0\n",
    "        numsLen = len(nums)\n",
    "        for i in range(0, numsLen - 1, 2):\n",
    "            result += nums[i]\n",
    "        return result"
   ]
  },
  {
   "cell_type": "code",
   "execution_count": null,
   "id": "a2535b0a-8257-46d0-8998-2b1334628ef1",
   "metadata": {},
   "outputs": [],
   "source": [
    "class Solution:\n",
    "\tdef arrangeCoins(self, n: int) -> int:\n",
    "\n",
    "\t\tresult = 0\n",
    "\n",
    "\t\tstairs_number = 1\n",
    "\n",
    "\t\twhile n > 0:\n",
    "\t\t\tn = n - stairs_number\n",
    "\t\t\tstairs_number = stairs_number + 1\n",
    "\t\t\tif n >= 0:\n",
    "\t\t\t\tresult = result + 1\n",
    "\n",
    "\t\treturn result"
   ]
  },
  {
   "cell_type": "code",
   "execution_count": null,
   "id": "d5a971aa-baaf-4732-b0b1-ea3031d183d3",
   "metadata": {},
   "outputs": [],
   "source": []
  },
  {
   "cell_type": "code",
   "execution_count": null,
   "id": "db7aefd9-b2ab-4360-aad0-715383378c6b",
   "metadata": {},
   "outputs": [],
   "source": []
  },
  {
   "cell_type": "code",
   "execution_count": null,
   "id": "c5a69d5f-9bc3-4e40-83cb-0b0d6805a7f6",
   "metadata": {},
   "outputs": [],
   "source": [
    "def sortedSquares(self, A: List[int]) -> List[int]:\n",
    "        return_array = [v**2 for v in A]\n",
    "\t\treturn_array.sort() # This is in place!\n",
    "\t\treturn return_array"
   ]
  },
  {
   "cell_type": "code",
   "execution_count": null,
   "id": "df1a32ed-2c42-4358-91c4-2d9c67697bb2",
   "metadata": {},
   "outputs": [],
   "source": []
  },
  {
   "cell_type": "code",
   "execution_count": null,
   "id": "e8a74f60-2c3b-4e86-bb39-244cce307f71",
   "metadata": {},
   "outputs": [],
   "source": []
  },
  {
   "cell_type": "code",
   "execution_count": null,
   "id": "fcb432e3-4141-42b5-877b-93848b6c87e3",
   "metadata": {},
   "outputs": [],
   "source": [
    "class Solution:\n",
    "    def maxCount(self, m: int, n: int, ops: List[List[int]]) -> int:\n",
    "        length = len(ops)\n",
    "        if length == 0:\n",
    "            return m*n\n",
    "        result = [ops[0][0] , ops[0][1]]\n",
    "        for i in range(1,length):\n",
    "            result[0] = min(result[0] , ops[i][0])\n",
    "            result[1] = min(result[1] , ops[i][1])\n",
    "        return result[0]*result[1]    "
   ]
  },
  {
   "cell_type": "code",
   "execution_count": null,
   "id": "7b8ea147-7946-4b24-a3d7-5bda2944dd90",
   "metadata": {},
   "outputs": [],
   "source": []
  },
  {
   "cell_type": "code",
   "execution_count": null,
   "id": "135ddcf4-7992-4596-bc77-8855deb48e13",
   "metadata": {},
   "outputs": [],
   "source": []
  },
  {
   "cell_type": "code",
   "execution_count": null,
   "id": "92e3184e-7661-4068-b6a1-5e13242f734b",
   "metadata": {},
   "outputs": [],
   "source": []
  },
  {
   "cell_type": "code",
   "execution_count": null,
   "id": "db97fffd-e88c-4474-a87c-d8ee83c0e09b",
   "metadata": {},
   "outputs": [],
   "source": []
  },
  {
   "cell_type": "code",
   "execution_count": null,
   "id": "c40fa539-570f-46ef-bbe3-901349325eb2",
   "metadata": {},
   "outputs": [],
   "source": []
  },
  {
   "cell_type": "code",
   "execution_count": null,
   "id": "febc3670-7649-42d3-a97d-75263cf72efb",
   "metadata": {},
   "outputs": [],
   "source": []
  },
  {
   "cell_type": "code",
   "execution_count": null,
   "id": "3159a115-f7c4-4b0d-8832-15ac6aeea0f4",
   "metadata": {},
   "outputs": [],
   "source": []
  }
 ],
 "metadata": {
  "kernelspec": {
   "display_name": "Python 3 (ipykernel)",
   "language": "python",
   "name": "python3"
  },
  "language_info": {
   "codemirror_mode": {
    "name": "ipython",
    "version": 3
   },
   "file_extension": ".py",
   "mimetype": "text/x-python",
   "name": "python",
   "nbconvert_exporter": "python",
   "pygments_lexer": "ipython3",
   "version": "3.10.6"
  }
 },
 "nbformat": 4,
 "nbformat_minor": 5
}
