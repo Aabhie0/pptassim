{
 "cells": [
  {
   "cell_type": "code",
   "execution_count": null,
   "id": "a82febd1-965f-417f-84f1-7004b3536c2f",
   "metadata": {},
   "outputs": [],
   "source": [
    "class Solution:\n",
    "    def isPowerOfTwo(self, n: int) -> bool:\n",
    "        if n==0:\n",
    "            return False\n",
    "\t\t\t\n",
    "\t\t#example\n",
    "        # n= 16 (ie 10000)  ,  n-1= 15 (ie 01111)\n",
    "\t\t\n",
    "\t\t#   10000(16)\n",
    "\t\t# & 01111(15)\n",
    "\t\t#  -------\n",
    "\t\t# = 00000\n",
    "        return (n&(n-1)) ==0"
   ]
  },
  {
   "cell_type": "code",
   "execution_count": null,
   "id": "bcc64b3c-c939-46c2-bb73-33adaecb81ef",
   "metadata": {},
   "outputs": [],
   "source": []
  },
  {
   "cell_type": "code",
   "execution_count": null,
   "id": "93b64207-922b-490c-af82-a004c14095ce",
   "metadata": {},
   "outputs": [],
   "source": [
    "def SumOfN(k):\n",
    "  s = 0\n",
    "  for i in range(1, k+1):\n",
    "    s += i\n",
    "  return s\n",
    "\n",
    "print(\"Enter the Value of n: \", end=\"\")\n",
    "try:\n",
    "  n = int(input())\n",
    "  if n<0:\n",
    "    print(\"\\nInvalid Input!\")\n",
    "  else:\n",
    "    sum = SumOfN(n)\n",
    "    print(\"\\nSum =\", sum)\n",
    "except ValueError:\n",
    "  print(\"\\nInvalid Input!\")"
   ]
  },
  {
   "cell_type": "code",
   "execution_count": null,
   "id": "0e0e8142-e403-453c-8d88-e9e4ac3f95d6",
   "metadata": {},
   "outputs": [],
   "source": []
  },
  {
   "cell_type": "code",
   "execution_count": null,
   "id": "760faaa4-14fa-4beb-b0e7-8e917e52b1d7",
   "metadata": {},
   "outputs": [],
   "source": [
    "def factorial(n):\n",
    "     \n",
    "    # single line to find factorial\n",
    "    return 1 if (n==1 or n==0) else n * factorial(n - 1)\n",
    " \n",
    "# Driver Code\n",
    "num = 5\n",
    "print(\"Factorial of\",num,\"is\",factorial(num))"
   ]
  },
  {
   "cell_type": "code",
   "execution_count": null,
   "id": "d7651404-c616-4ea4-87fa-aef73c4548ac",
   "metadata": {},
   "outputs": [],
   "source": []
  },
  {
   "cell_type": "code",
   "execution_count": null,
   "id": "49e0154d-2c86-490a-bf24-c3812b01548c",
   "metadata": {},
   "outputs": [],
   "source": [
    "def power(N, P):\n",
    " \n",
    "    \n",
    "    if P == 0:\n",
    "        return 1\n",
    " \n",
    "    # Recurrence relation\n",
    "    return (N*power(N, P-1))\n",
    " \n",
    " \n",
    "\n",
    "if __name__ == '__main__':\n",
    "    N = 5\n",
    "    P = 2\n",
    " \n",
    "    print(power(N, P))"
   ]
  },
  {
   "cell_type": "code",
   "execution_count": null,
   "id": "fa941f55-73ae-41a0-9c80-03481f7812ba",
   "metadata": {},
   "outputs": [],
   "source": []
  },
  {
   "cell_type": "code",
   "execution_count": null,
   "id": "d2554c4d-de73-4a99-962d-0e9bb6def4be",
   "metadata": {},
   "outputs": [],
   "source": [
    "def findMinRec(A, n):\n",
    "     \n",
    "    # if size = 0 means whole array\n",
    "    # has been traversed\n",
    "    if (n == 1):\n",
    "        return A[0]\n",
    "    return min(A[n - 1], findMinRec(A, n - 1))\n",
    "\n",
    "if __name__ == '__main__':\n",
    "    A = [1, 4, 45, 6, -50, 10, 2]\n",
    "    n = len(A)\n",
    "    print(findMinRec(A, n))"
   ]
  },
  {
   "cell_type": "code",
   "execution_count": null,
   "id": "79cd0fd0-a083-4dfa-8ecb-b982dc056c20",
   "metadata": {},
   "outputs": [],
   "source": []
  },
  {
   "cell_type": "code",
   "execution_count": null,
   "id": "56bbd0a4-dc7f-446f-aa7a-545da39b36fa",
   "metadata": {},
   "outputs": [],
   "source": [
    "nthTerm = a\n",
    "for i in range(1, n):\n",
    "    nthTerm += d\n",
    " \n",
    "print(\"The\", n, \"th term of the series is:\", nthTerm)"
   ]
  },
  {
   "cell_type": "code",
   "execution_count": null,
   "id": "ad69502a-5a82-4964-a494-4e3c6198c1fd",
   "metadata": {},
   "outputs": [],
   "source": []
  },
  {
   "cell_type": "code",
   "execution_count": null,
   "id": "3cd7e72a-556f-4b97-b020-64bc1913f7ea",
   "metadata": {},
   "outputs": [],
   "source": [
    "def toString(List):\n",
    "    return ''.join(List)\n",
    "\n",
    "def permute(a, l, r):\n",
    "    if l == r:\n",
    "        print(toString(a))\n",
    "    else:\n",
    "        for i in range(l, r):\n",
    "            a[l], a[i] = a[i], a[l]\n",
    "            permute(a, l+1, r)\n",
    "            a[l], a[i] = a[i], a[l]  # backtrack\n",
    " \n",
    " \n",
    "# Driver code\n",
    "string = \"ABC\"\n",
    "n = len(string)\n",
    "a = list(string)\n",
    " \n",
    "# Function call\n",
    "permute(a, 0, n)"
   ]
  },
  {
   "cell_type": "code",
   "execution_count": null,
   "id": "0bf06d3e-c2cc-476b-b7ac-1c85efa54c9f",
   "metadata": {},
   "outputs": [],
   "source": []
  },
  {
   "cell_type": "code",
   "execution_count": null,
   "id": "b137ec56-fac2-4a53-952b-b5f989cb2ac8",
   "metadata": {},
   "outputs": [],
   "source": [
    "import functools\n",
    "\n",
    "# importing operator for operator functions\n",
    "import operator\n",
    "\n",
    "a_list = [5, 2, 7, 4]\n",
    "\n",
    "product = functools.reduce(operator.mul, a_list)\n",
    "\n",
    "print(\"Product of elements of the list: \",product)"
   ]
  },
  {
   "cell_type": "code",
   "execution_count": null,
   "id": "330a4c33-1286-43f5-aabf-97f60117c11a",
   "metadata": {},
   "outputs": [],
   "source": []
  },
  {
   "cell_type": "code",
   "execution_count": null,
   "id": "78d122c2-d048-4a4a-9f24-afd7e859face",
   "metadata": {},
   "outputs": [],
   "source": []
  },
  {
   "cell_type": "code",
   "execution_count": null,
   "id": "841f0692-60e4-4b1e-9c18-3c681f0e320d",
   "metadata": {},
   "outputs": [],
   "source": []
  }
 ],
 "metadata": {
  "kernelspec": {
   "display_name": "Python 3 (ipykernel)",
   "language": "python",
   "name": "python3"
  },
  "language_info": {
   "codemirror_mode": {
    "name": "ipython",
    "version": 3
   },
   "file_extension": ".py",
   "mimetype": "text/x-python",
   "name": "python",
   "nbconvert_exporter": "python",
   "pygments_lexer": "ipython3",
   "version": "3.10.6"
  }
 },
 "nbformat": 4,
 "nbformat_minor": 5
}
