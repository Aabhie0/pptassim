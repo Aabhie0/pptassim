{
 "cells": [
  {
   "cell_type": "code",
   "execution_count": null,
   "id": "05bd5dd1-f08e-4845-8069-2febd256d656",
   "metadata": {},
   "outputs": [],
   "source": [
    "class Solution:\n",
    "    def minimumDeleteSum(self, word1: str, word2: str) -> int:\n",
    "        m = len(word1)\n",
    "        n = len(word2)\n",
    "        \n",
    "        @cache\n",
    "        def dfs(i, j):\n",
    "            # if we have run out of characters in both strings\n",
    "            # return 0\n",
    "            if i == m and j == n:\n",
    "                return 0\n",
    "            \n",
    "            if i == m or j == n:\n",
    "                return sum([ord(c) for c in word1[i:]]) or sum([ord(c) for c in word2[j:]])\n",
    "            \n",
    "            if word1[i] == word2[j]:\n",
    "                # identical characters, pay no cost since no deletion\n",
    "                return dfs(i + 1, j + 1)\n",
    "            else:\n",
    "                # letters are different, try shifting both and see which \n",
    "                # one is better and pay a cost of 1 for one deletion\n",
    "                return min(dfs(i+1, j) + ord(word1[i]), dfs(i, j+1)+ ord(word2[j])) \n",
    "            \n",
    "        return dfs(0, 0)"
   ]
  },
  {
   "cell_type": "code",
   "execution_count": null,
   "id": "0f5c2830-2e19-4c03-9087-747c4b3e0d7e",
   "metadata": {},
   "outputs": [],
   "source": []
  },
  {
   "cell_type": "code",
   "execution_count": null,
   "id": "2cc8cd78-3ce2-4898-b783-192165bd46ef",
   "metadata": {},
   "outputs": [],
   "source": [
    "class Solution:\n",
    "    def checkValidString(self, s: str) -> bool:\n",
    "        leftmin = leftmax = 0\n",
    "        for c in s:\n",
    "            if c == \"(\":\n",
    "                leftmax += 1\n",
    "                leftmin += 1\n",
    "            if c == \")\":\n",
    "                leftmax -= 1\n",
    "                leftmin = max(0, leftmin-1)\n",
    "            if c == \"*\":\n",
    "                leftmax +=1\n",
    "                leftmin = max(0, leftmin-1)\n",
    "            if leftmax < 0:\n",
    "                return False\n",
    "        if leftmin == 0:\n",
    "            return True"
   ]
  },
  {
   "cell_type": "code",
   "execution_count": null,
   "id": "29f9312c-8c84-4dd9-8b20-de33ab179987",
   "metadata": {},
   "outputs": [],
   "source": []
  },
  {
   "cell_type": "code",
   "execution_count": null,
   "id": "b98c3ad3-def6-42cb-8597-3872dda2d90d",
   "metadata": {},
   "outputs": [],
   "source": [
    "class Solution:\n",
    "    def minDistance(self, word1: str, word2: str) -> int:\n",
    "        \n",
    "        n1 = len(word1)\n",
    "        n2 = len(word2)\n",
    "        memo = {}\n",
    "        \n",
    "        def dp(idx1, idx2):\n",
    "            \n",
    "            if idx1 == n1 and idx2 == n2:\n",
    "                return 0\n",
    "            \n",
    "            if idx1 >= n1 or idx2 >= n2:\n",
    "                return max(n1 - idx1, n2 - idx2)\n",
    "            \n",
    "            key = (idx1, idx2)\n",
    "            if key not in memo:\n",
    "                if word1[idx1] == word2[idx2]:\n",
    "                    memo[key] = dp(idx1 + 1, idx2 + 1)\n",
    "                else:\n",
    "                    memo[key] = 1 + min(dp(idx1 + 1, idx2), dp(idx1, idx2 + 1))\n",
    "            \n",
    "            return memo[key]\n",
    "        \n",
    "        return dp(0, 0)"
   ]
  },
  {
   "cell_type": "code",
   "execution_count": null,
   "id": "34f70861-bb01-4381-90fc-4169f8325f0d",
   "metadata": {},
   "outputs": [],
   "source": []
  },
  {
   "cell_type": "code",
   "execution_count": null,
   "id": "606f957d-f0b4-4b4b-b617-87e86b395876",
   "metadata": {},
   "outputs": [],
   "source": [
    "public class Solution {\n",
    "    public TreeNode str2tree(String s) {\n",
    "        if (s == null || s.length() == 0) return null;\n",
    "        Stack<TreeNode> stack = new Stack<>();\n",
    "        for (int i = 0; i < s.length(); i++) {\n",
    "            if (Character.isDigit(s.charAt(i)) || s.charAt(i) == '-') {\n",
    "                int j = i;\n",
    "                while (i + 1 < s.length() && Character.isDigit(s.charAt(i + 1))) i++;\n",
    "                TreeNode curt = new TreeNode(Integer.valueOf(s.substring(j, i + 1)));\n",
    "                if (stack.isEmpty()) stack.push(curt);\n",
    "                else {\n",
    "                    TreeNode parent = stack.peek();\n",
    "                    if (parent.left == null) parent.left = curt;\n",
    "                    else parent.right = curt;\n",
    "                    stack.push(curt);\n",
    "                }\n",
    "            }\n",
    "            if (s.charAt(i) == ')') stack.pop();\n",
    "        }\n",
    "        return stack.pop();\n",
    "    }\n",
    "}"
   ]
  },
  {
   "cell_type": "code",
   "execution_count": null,
   "id": "0067a8bd-88be-45a8-9ff1-2895b0f00204",
   "metadata": {},
   "outputs": [],
   "source": []
  },
  {
   "cell_type": "code",
   "execution_count": null,
   "id": "1546cbbd-efab-4391-b1c0-0b688b218e51",
   "metadata": {},
   "outputs": [],
   "source": [
    "class Solution(object):\n",
    "    def compress(self, chars):\n",
    "        \"\"\"\n",
    "        :type chars: List[str]\n",
    "        :rtype: int\n",
    "        \"\"\"\n",
    "        n,a= 1, 0\n",
    "        for k, c in enumerate(chars + ['&&&&&&']): \n",
    "            if k == 0 or c != chars[k - 1]: \n",
    "                if n > 1:   \n",
    "                    for d in str(n): \n",
    "                        chars[a] = d\n",
    "                        a += 1\n",
    "                if a < len(chars): chars[a] = c   \n",
    "                a += 1   \n",
    "                n = 1  \n",
    "            else: \n",
    "                n += 1 \n",
    "        return a - 1"
   ]
  },
  {
   "cell_type": "code",
   "execution_count": null,
   "id": "3764d139-b991-4c16-8008-8ece51ccac70",
   "metadata": {},
   "outputs": [],
   "source": []
  },
  {
   "cell_type": "code",
   "execution_count": null,
   "id": "f79a19ab-8c88-422e-a012-31e641e3b9f8",
   "metadata": {},
   "outputs": [],
   "source": [
    "class Solution(object):\n",
    "    def findAnagrams(self, s, p):\n",
    "        res = []\n",
    "        c = collections.Counter(p)\n",
    "        cur = collections.Counter(s[:len(p)])\n",
    "        for i in range(len(s)-len(p)+1):\n",
    "            if cur==c:\n",
    "                res.append(i)\n",
    "            if i == len(s)-len(p):\n",
    "                break\n",
    "            cur[s[i]]-=1\n",
    "            if cur[s[i]]==0:\n",
    "                del cur[s[i]]\n",
    "            cur[s[i+len(p)]]+=1\n",
    "        return res"
   ]
  },
  {
   "cell_type": "code",
   "execution_count": null,
   "id": "a21247c2-e01c-42cf-ac2b-24e969b2631f",
   "metadata": {},
   "outputs": [],
   "source": []
  },
  {
   "cell_type": "code",
   "execution_count": null,
   "id": "fe1bf10f-3079-4d59-8fa4-9c7746f9ae11",
   "metadata": {},
   "outputs": [],
   "source": [
    "class Solution:\n",
    "    def decodeString(self, s: str) -> str:\n",
    "        stack = []\n",
    "        for c in range(len(s)):\n",
    "            if s[c] != ']':\n",
    "                stack.append(s[c])\n",
    "            else:\n",
    "                string = ''\n",
    "                num = ''\n",
    "                while stack[-1] != '[':\n",
    "                    string = stack.pop() + string\n",
    "                stack.pop()\n",
    "                while stack and stack[-1].isdigit():\n",
    "                    num = stack.pop() + num\n",
    "                stack.append(int(num) * string)\n",
    "                print(num)\n",
    "        return \"\".join(stack)"
   ]
  },
  {
   "cell_type": "code",
   "execution_count": null,
   "id": "3b4af66a-2323-4b62-a396-f792ba87e7e1",
   "metadata": {},
   "outputs": [],
   "source": []
  },
  {
   "cell_type": "code",
   "execution_count": null,
   "id": "5f40f35e-29de-416a-bdf0-b1af8d30beba",
   "metadata": {},
   "outputs": [],
   "source": []
  },
  {
   "cell_type": "code",
   "execution_count": null,
   "id": "40771c39-632a-4a15-8c73-27741a8cc2f4",
   "metadata": {},
   "outputs": [],
   "source": []
  },
  {
   "cell_type": "code",
   "execution_count": null,
   "id": "fa57108c-e63d-4fdc-97c2-549e27a2ab67",
   "metadata": {},
   "outputs": [],
   "source": []
  },
  {
   "cell_type": "code",
   "execution_count": null,
   "id": "c418fa8e-d239-4306-84fb-cc5c64095c52",
   "metadata": {},
   "outputs": [],
   "source": []
  },
  {
   "cell_type": "code",
   "execution_count": null,
   "id": "d7ec2eb7-4e74-43b2-b36c-569e329d6d45",
   "metadata": {},
   "outputs": [],
   "source": []
  },
  {
   "cell_type": "code",
   "execution_count": null,
   "id": "778d5276-aa5b-4cbc-bd7c-078827f8b21f",
   "metadata": {},
   "outputs": [],
   "source": []
  }
 ],
 "metadata": {
  "kernelspec": {
   "display_name": "",
   "name": ""
  },
  "language_info": {
   "name": ""
  }
 },
 "nbformat": 4,
 "nbformat_minor": 5
}
