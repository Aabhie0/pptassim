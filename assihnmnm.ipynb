{
 "cells": [
  {
   "cell_type": "code",
   "execution_count": null,
   "id": "3684d281-f902-4b5c-995a-e93be7896d4d",
   "metadata": {},
   "outputs": [],
   "source": [
    "class Solution(object):\n",
    "    def isIsomorphic(self, s, t):\n",
    "        map1 = []\n",
    "        map2 = []\n",
    "        for idx in s:\n",
    "            map1.append(s.index(idx))\n",
    "        for idx in t:\n",
    "            map2.append(t.index(idx))\n",
    "        if map1 == map2:\n",
    "            return True\n",
    "        return False"
   ]
  },
  {
   "cell_type": "code",
   "execution_count": null,
   "id": "f54b332a-301c-4d50-9cfd-11624f7b3286",
   "metadata": {},
   "outputs": [],
   "source": []
  },
  {
   "cell_type": "code",
   "execution_count": null,
   "id": "13644722-0b36-4f73-b498-6cf3731eaaeb",
   "metadata": {},
   "outputs": [],
   "source": [
    "class Solution:\n",
    "    def isStrobogrammatic(self, num: str) -> bool:\n",
    "        d = [0, 1, -1, -1, -1, -1, 9, -1, 8, 6] # index ==> value, eg. last one, index=9 val=6\n",
    "        i, j = 0, len(num) - 1\n",
    "        while i <= j:\n",
    "            a, b = int(num[i]), int(num[j])\n",
    "            if d[a] != b:\n",
    "                return False\n",
    "            i, j = i + 1, j - 1\n",
    "        return True"
   ]
  },
  {
   "cell_type": "code",
   "execution_count": null,
   "id": "5677cb6c-8092-41c8-8624-e189e9c87331",
   "metadata": {},
   "outputs": [],
   "source": []
  },
  {
   "cell_type": "code",
   "execution_count": null,
   "id": "aad56533-079c-4844-934e-fe2da901b033",
   "metadata": {},
   "outputs": [],
   "source": [
    "class Solution(object):\n",
    "    def addStrings(self, num1, num2):\n",
    "        \"\"\"\n",
    "        :type num1: str\n",
    "        :type num2: str\n",
    "        :rtype: str\n",
    "        \"\"\"\n",
    "        return str(int(num1)+int(num2))\n",
    "        "
   ]
  },
  {
   "cell_type": "code",
   "execution_count": null,
   "id": "53094757-ad22-4b37-a02a-7928ad434772",
   "metadata": {},
   "outputs": [],
   "source": []
  },
  {
   "cell_type": "code",
   "execution_count": null,
   "id": "b3923232-3e9e-4d9f-b442-9424dfdb9929",
   "metadata": {},
   "outputs": [],
   "source": [
    "class Solution(object):\n",
    "    def reverseWords(self, s):\n",
    "        \"\"\"\n",
    "        :type s: str\n",
    "        :rtype: str\n",
    "        \"\"\"\n",
    "        s = map(lambda x: x[::-1], s.split(' '))\n",
    "        return ' '.join(s)"
   ]
  },
  {
   "cell_type": "code",
   "execution_count": null,
   "id": "2b99bd1e-eee3-49d1-9432-f6d1cfc078b1",
   "metadata": {},
   "outputs": [],
   "source": []
  },
  {
   "cell_type": "code",
   "execution_count": null,
   "id": "de68926c-f8a4-4193-8e93-cf70c83eda94",
   "metadata": {},
   "outputs": [],
   "source": [
    "def reverseStr(self, s: str, k: int) -> str:\n",
    "        s=list(s)\n",
    "        for i in range(0,len(s),2*k):\n",
    "            s[i:i+k]=(s[i:i+k])[::-1]\n",
    "        return ''.join(s)"
   ]
  },
  {
   "cell_type": "code",
   "execution_count": null,
   "id": "55eb2a7d-ee3a-4d02-aa26-b591410d788b",
   "metadata": {},
   "outputs": [],
   "source": []
  },
  {
   "cell_type": "code",
   "execution_count": null,
   "id": "0a6e1528-86c8-44d6-a36c-1be399131c47",
   "metadata": {},
   "outputs": [],
   "source": [
    "class Solution:\n",
    "    def rotateString(self, s: str, goal: str) -> bool:\n",
    "        return len(s) == len(goal) and s in goal+goal "
   ]
  },
  {
   "cell_type": "code",
   "execution_count": null,
   "id": "03c22135-e245-4c86-a1fe-8b2f7d812d15",
   "metadata": {},
   "outputs": [],
   "source": []
  },
  {
   "cell_type": "code",
   "execution_count": null,
   "id": "4aeab2cd-a6a6-46c8-bcbe-6b0f0c50c88f",
   "metadata": {},
   "outputs": [],
   "source": [
    "    def backspaceCompare(self, s, t):\n",
    "        \"\"\"\n",
    "        :type s: str\n",
    "        :type t: str\n",
    "        :rtype: bool\n",
    "        \"\"\"\n",
    "        sstack=list()\n",
    "        tstack=list()\n",
    "        for i in s:\n",
    "            if i=='#':\n",
    "                if len(sstack)!=0:         #### if we encounter '#' at begining , ignore it if in between then pop the last character inserted in list\n",
    "                    sstack.pop()\n",
    "            else:\n",
    "                sstack.append(i)      ## if character is not '#' backspace then insert it into stack.\n",
    "        for i in t:\n",
    "            if i=='#':\n",
    "                if len(tstack)!=0:\n",
    "                    tstack.pop()\n",
    "            else:\n",
    "                tstack.append(i)\n",
    "        return sstack==tstack "
   ]
  },
  {
   "cell_type": "code",
   "execution_count": null,
   "id": "21f53665-61c4-422c-a207-9cffe7a70028",
   "metadata": {},
   "outputs": [],
   "source": []
  },
  {
   "cell_type": "code",
   "execution_count": null,
   "id": "9f7309e8-7136-4d62-8eb2-3147a085998f",
   "metadata": {},
   "outputs": [],
   "source": []
  },
  {
   "cell_type": "code",
   "execution_count": null,
   "id": "7b3e4be8-5688-46f2-8ab2-a280c96126ae",
   "metadata": {},
   "outputs": [],
   "source": []
  }
 ],
 "metadata": {
  "kernelspec": {
   "display_name": "Python 3 (ipykernel)",
   "language": "python",
   "name": "python3"
  },
  "language_info": {
   "codemirror_mode": {
    "name": "ipython",
    "version": 3
   },
   "file_extension": ".py",
   "mimetype": "text/x-python",
   "name": "python",
   "nbconvert_exporter": "python",
   "pygments_lexer": "ipython3",
   "version": "3.10.6"
  }
 },
 "nbformat": 4,
 "nbformat_minor": 5
}
