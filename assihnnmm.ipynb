{
 "cells": [
  {
   "cell_type": "code",
   "execution_count": null,
   "id": "4ce179b9-7c9f-4dc0-a8fe-b06df4b78497",
   "metadata": {},
   "outputs": [],
   "source": [
    "class Solution:\n",
    "    def construct2DArray(self, original: List[int], m: int, n: int) -> List[List[int]]:\n",
    "        if len(original) != m*n: return []\n",
    "        \n",
    "        res = [[None for j in range(n)] for i in range(m)]\n",
    "        k = 0\n",
    "        \n",
    "        for i in range(m):\n",
    "            for j in range(n):\n",
    "                res[i][j] = original[k]\n",
    "                k += 1\n",
    "        \n",
    "        return res"
   ]
  },
  {
   "cell_type": "code",
   "execution_count": null,
   "id": "fae1338b-1c10-4547-a2b3-013e968a8a6a",
   "metadata": {},
   "outputs": [],
   "source": []
  },
  {
   "cell_type": "code",
   "execution_count": null,
   "id": "63cbc91f-16ba-4565-8471-ec3b32c99e56",
   "metadata": {},
   "outputs": [],
   "source": [
    "def arrangeCoins(self, n: int) -> int:\n",
    "    return int((-1 + (1 + 8*n) ** 0.5) // 2)"
   ]
  },
  {
   "cell_type": "code",
   "execution_count": null,
   "id": "d4a68052-fd17-4eb8-99cf-b224dd4ba1d3",
   "metadata": {},
   "outputs": [],
   "source": []
  },
  {
   "cell_type": "code",
   "execution_count": null,
   "id": "d26e308f-3480-4d3a-9fde-fe0677ddf33f",
   "metadata": {},
   "outputs": [],
   "source": [
    "class Solution:\n",
    "    def sortedSquares(self, nums: List[int]) -> List[int]:\n",
    "        l, r = 0, len(nums) - 1 # Initialise 2 pointers\n",
    "        res = [] # initialise the result list\n",
    "\n",
    "        while l <= r: # continue the loop untill we go through all values, either with left pointer or with right pointer\n",
    "            if abs(nums[l]) > abs(nums[r]):\n",
    "\t\t\t\t# If the absolute value at left pointer is bigger, we know the square of left value will be bigger than the right one\n",
    "                res.append(nums[l]**2)\n",
    "                l += 1 # increment pointer because we can now look at the next value\n",
    "            else:\n",
    "\t\t\t\t# If left is not bigger, it's either equal or right value is bigger. In both cases, we can add right value to the result.\n",
    "                res.append(nums[r]**2)\n",
    "                r -= 1 # decrement pointer to go to the previous value\n",
    "        return res[::-1]"
   ]
  },
  {
   "cell_type": "code",
   "execution_count": null,
   "id": "7c3fda93-d646-4e19-b68a-24a1eeafac79",
   "metadata": {},
   "outputs": [],
   "source": []
  },
  {
   "cell_type": "code",
   "execution_count": null,
   "id": "6843403f-0312-4691-993f-35493f83cc94",
   "metadata": {},
   "outputs": [],
   "source": [
    "class Solution:\n",
    "    def findDifference(self, nums1: List[int], nums2: List[int]) -> List[List[int]]:\n",
    "        n1=set(nums1)\n",
    "        n2=set(nums2)\n",
    "        r1=list(set(x for x in nums1 if x not in n2))\n",
    "        r2=list(set(x for x in nums2 if x not in n1))\n",
    "        return [r1,r2]"
   ]
  },
  {
   "cell_type": "code",
   "execution_count": null,
   "id": "f17aa566-14ae-43ad-adbf-50a48a653cd1",
   "metadata": {},
   "outputs": [],
   "source": []
  },
  {
   "cell_type": "code",
   "execution_count": null,
   "id": "1c862133-8361-4fe0-ba28-1c509c447f1c",
   "metadata": {},
   "outputs": [],
   "source": [
    " def findTheDistanceValue(self, arr1: List[int], arr2: List[int], d: int) -> int:\n",
    "        arr2.sort()\n",
    "        distance = len(arr1)\n",
    "        for num in arr1:\n",
    "            start = 0\n",
    "            end = len(arr2) - 1\n",
    "            while start <= end:\n",
    "                mid = (start+end)//2\n",
    "                if abs(num- arr2[mid]) <= d:\n",
    "                    distance -= 1\n",
    "                    break\n",
    "                elif arr2[mid] > num :\n",
    "                    end = mid-1\n",
    "                elif arr2[mid] < num :\n",
    "                    start = mid+1\n",
    "        return distance"
   ]
  },
  {
   "cell_type": "code",
   "execution_count": null,
   "id": "b80a86d5-5ee7-4bbf-b735-ed8f027667c0",
   "metadata": {},
   "outputs": [],
   "source": []
  },
  {
   "cell_type": "code",
   "execution_count": null,
   "id": "8d7ed300-a909-4de7-a7a3-c9b0e5abf499",
   "metadata": {},
   "outputs": [],
   "source": [
    "class Solution:\n",
    "    def findDuplicates(self, nums: List[int]) -> List[int]:\n",
    "        res=[]\n",
    "        for i in nums:\n",
    "            if nums[abs(i)-1]<0:\n",
    "                res.append(abs(i))\n",
    "            else:\n",
    "                nums[abs(i)-1]=-nums[abs(i)-1]\n",
    "        return res"
   ]
  },
  {
   "cell_type": "code",
   "execution_count": null,
   "id": "c5effe0e-c1cc-4d67-965a-3cfba734728a",
   "metadata": {},
   "outputs": [],
   "source": []
  },
  {
   "cell_type": "code",
   "execution_count": null,
   "id": "5066053b-961a-4258-b540-a5fcb38ed5be",
   "metadata": {},
   "outputs": [],
   "source": [
    "class Solution:\n",
    "    def findMin(self, num):\n",
    "        first, last = 0, len(num) - 1\n",
    "        while first < last:\n",
    "            midpoint = (first + last) // 2\n",
    "            if num[midpoint] > num[last]:\n",
    "    \n",
    "\tfirst = midpoint + 1\n",
    "            else:\n",
    "                last = midpoint\n",
    "        return num[first]"
   ]
  },
  {
   "cell_type": "code",
   "execution_count": null,
   "id": "2cd573a3-dcf4-4fd2-90e4-97645098be0f",
   "metadata": {},
   "outputs": [],
   "source": []
  },
  {
   "cell_type": "code",
   "execution_count": null,
   "id": "a51eab42-41f8-467b-a388-925d71ac20f0",
   "metadata": {},
   "outputs": [],
   "source": []
  },
  {
   "cell_type": "code",
   "execution_count": null,
   "id": "1849d53f-3139-46c8-bd04-0209bf36f8c8",
   "metadata": {},
   "outputs": [],
   "source": []
  },
  {
   "cell_type": "code",
   "execution_count": null,
   "id": "8cfad79c-69f4-4b2b-be56-0ba4cc45a545",
   "metadata": {},
   "outputs": [],
   "source": []
  },
  {
   "cell_type": "code",
   "execution_count": null,
   "id": "f68dda99-1b44-4f86-abc9-8b5cbd0e7984",
   "metadata": {},
   "outputs": [],
   "source": []
  },
  {
   "cell_type": "code",
   "execution_count": null,
   "id": "d859bf6b-6a5a-4e9a-9048-dd05a0e9dbf5",
   "metadata": {},
   "outputs": [],
   "source": []
  },
  {
   "cell_type": "code",
   "execution_count": null,
   "id": "c9d31847-25f2-43b5-8849-7960a1a66457",
   "metadata": {},
   "outputs": [],
   "source": []
  },
  {
   "cell_type": "code",
   "execution_count": null,
   "id": "67cb7c68-9263-42f7-baba-99e6766a2cb2",
   "metadata": {},
   "outputs": [],
   "source": []
  },
  {
   "cell_type": "code",
   "execution_count": null,
   "id": "c270a939-f651-4bbe-933e-28c028dd4fb2",
   "metadata": {},
   "outputs": [],
   "source": []
  }
 ],
 "metadata": {
  "kernelspec": {
   "display_name": "Python 3 (ipykernel)",
   "language": "python",
   "name": "python3"
  },
  "language_info": {
   "codemirror_mode": {
    "name": "ipython",
    "version": 3
   },
   "file_extension": ".py",
   "mimetype": "text/x-python",
   "name": "python",
   "nbconvert_exporter": "python",
   "pygments_lexer": "ipython3",
   "version": "3.10.6"
  }
 },
 "nbformat": 4,
 "nbformat_minor": 5
}
