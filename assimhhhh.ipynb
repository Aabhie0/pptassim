{
 "cells": [
  {
   "cell_type": "code",
   "execution_count": null,
   "id": "c212c97b-1912-4b5b-a7d3-6dcdefb85753",
   "metadata": {},
   "outputs": [],
   "source": [
    "class Solution:\n",
    "    def mySqrt(self, x: int) -> int:\n",
    "        low = 1\n",
    "        high = x\n",
    "        while True:\n",
    "            mid = (low + high)//2\n",
    "            if mid * mid > x:\n",
    "                high = mid\n",
    "            elif mid * mid < x:\n",
    "                low = mid\n",
    "            if mid * mid <= x < (mid+1)*(mid+1):\n",
    "                return mid"
   ]
  },
  {
   "cell_type": "code",
   "execution_count": null,
   "id": "6e074f5c-4898-4be8-966b-d0ff2a64b2d0",
   "metadata": {},
   "outputs": [],
   "source": []
  },
  {
   "cell_type": "code",
   "execution_count": null,
   "id": "d3594aa3-3014-4b0b-ac33-d49f19a3a79c",
   "metadata": {},
   "outputs": [],
   "source": [
    "class Solution(object):\n",
    "    def findPeakElement(self, nums):\n",
    "        nums.insert(0, float('-inf'))\n",
    "        nums.append(float('-inf'))\n",
    "        \n",
    "        l, h = 1, len(nums) - 2\n",
    "        while l <= h:\n",
    "            mid = (l + h) // 2\n",
    "            if nums[mid] > nums[mid-1] and nums[mid] > nums[mid+1]:\n",
    "                return mid - 1\n",
    "            elif nums[mid] > nums[mid-1]:\n",
    "                l = mid + 1\n",
    "            else:\n",
    "                h = mid - 1"
   ]
  },
  {
   "cell_type": "code",
   "execution_count": null,
   "id": "b63ee832-0dbd-4dea-bafb-00f2ed87fbde",
   "metadata": {},
   "outputs": [],
   "source": []
  },
  {
   "cell_type": "code",
   "execution_count": null,
   "id": "a7d0a9d8-7359-40fe-958e-990ddccd6f6f",
   "metadata": {},
   "outputs": [],
   "source": [
    "class Solution:\n",
    "    def missingNumber(self, nums: List[int]) -> int:\n",
    "        return next(iter(set(range(len(nums) + 1)) - set(nums)))"
   ]
  },
  {
   "cell_type": "code",
   "execution_count": null,
   "id": "594689c1-2f48-4061-a5bf-dbf3eeba51c1",
   "metadata": {},
   "outputs": [],
   "source": []
  },
  {
   "cell_type": "code",
   "execution_count": null,
   "id": "5aabdef7-57c9-4fd4-83c0-80149ad2ee32",
   "metadata": {},
   "outputs": [],
   "source": [
    "class Solution:\n",
    "    def findDuplicate(self, nums: List[int]) -> int:\n",
    "        for i in range(len(nums)):\n",
    "            if nums[abs(nums[i])-1]>0:\n",
    "                nums[abs(nums[i])-1] = -nums[abs(nums[i])-1]\n",
    "            else:\n",
    "                return abs(nums[i])"
   ]
  },
  {
   "cell_type": "code",
   "execution_count": null,
   "id": "abb5a1f9-20f8-45b3-ba1d-527098155b85",
   "metadata": {},
   "outputs": [],
   "source": []
  },
  {
   "cell_type": "code",
   "execution_count": null,
   "id": "299c23ed-2a84-4c02-a6aa-e84911f2bd32",
   "metadata": {},
   "outputs": [],
   "source": [
    "class Solution(object):\n",
    "    def intersection(self, nums1, nums2):\n",
    "        v = set()\n",
    "        nums1 = set(nums1)\n",
    "        for i in nums1:\n",
    "            if i in nums2:\n",
    "                v.add(i)\n",
    "        return list(v)"
   ]
  },
  {
   "cell_type": "code",
   "execution_count": null,
   "id": "d81383ae-62dc-4abb-bdbd-075fe24fd88b",
   "metadata": {},
   "outputs": [],
   "source": []
  },
  {
   "cell_type": "code",
   "execution_count": null,
   "id": "34ae84aa-0457-49df-93bc-3d53eb3d26cb",
   "metadata": {},
   "outputs": [],
   "source": [
    "class Solution:\n",
    "    def findMin(self, num):\n",
    "        first, last = 0, len(num) - 1\n",
    "        while first < last:\n",
    "            midpoint = (first + last) // 2\n",
    "            if num[midpoint] > num[last]:\n",
    "    \n",
    "\tfirst = midpoint + 1\n",
    "            else:\n",
    "                last = midpoint\n",
    "        return num[first]"
   ]
  },
  {
   "cell_type": "code",
   "execution_count": null,
   "id": "c7a3d631-0045-4f4d-b5c9-666f114b7ea9",
   "metadata": {},
   "outputs": [],
   "source": []
  },
  {
   "cell_type": "code",
   "execution_count": null,
   "id": "d45ba292-58ad-4209-93fd-e832dfc9415c",
   "metadata": {},
   "outputs": [],
   "source": [
    "class Solution:\n",
    "    def searchRange(self, nums: List[int], target: int) -> List[int]:\n",
    "        \n",
    "        def search(x):\n",
    "            lo, hi = 0, len(nums)           \n",
    "            while lo < hi:\n",
    "                mid = (lo + hi) // 2\n",
    "                if nums[mid] < x:\n",
    "                    lo = mid+1\n",
    "                else:\n",
    "                    hi = mid                    \n",
    "            return lo\n",
    "        \n",
    "        lo = search(target)\n",
    "        hi = search(target+1)-1\n",
    "        \n",
    "        if lo <= hi:\n",
    "            return [lo, hi]\n",
    "                \n",
    "        return [-1, -1]"
   ]
  },
  {
   "cell_type": "code",
   "execution_count": null,
   "id": "c8491024-eca1-40a2-be9c-482c61ba8466",
   "metadata": {},
   "outputs": [],
   "source": []
  },
  {
   "cell_type": "code",
   "execution_count": null,
   "id": "617512fe-602e-4643-8234-a7d543775e9d",
   "metadata": {},
   "outputs": [],
   "source": []
  }
 ],
 "metadata": {
  "kernelspec": {
   "display_name": "Python 3 (ipykernel)",
   "language": "python",
   "name": "python3"
  },
  "language_info": {
   "codemirror_mode": {
    "name": "ipython",
    "version": 3
   },
   "file_extension": ".py",
   "mimetype": "text/x-python",
   "name": "python",
   "nbconvert_exporter": "python",
   "pygments_lexer": "ipython3",
   "version": "3.10.6"
  }
 },
 "nbformat": 4,
 "nbformat_minor": 5
}
