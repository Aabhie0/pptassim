{
 "cells": [
  {
   "cell_type": "code",
   "execution_count": null,
   "id": "f6977b4c-1cf1-4fe8-aefc-d6a3de11b934",
   "metadata": {},
   "outputs": [],
   "source": [
    "class Solution(object):\n",
    "    def firstUniqChar(self, s):\n",
    "        hset = collections.Counter(s);\n",
    "        # Traverse the string from the beginning...\n",
    "        for idx in range(len(s)):\n",
    "            # If the count is equal to 1, it is the first distinct character in the list.\n",
    "            if hset[s[idx]] == 1:\n",
    "                return idx\n",
    "        return -1       # If no character appeared exactly once"
   ]
  },
  {
   "cell_type": "code",
   "execution_count": null,
   "id": "dc77db85-7aed-4fd9-8ad4-0d6bcc7abfd8",
   "metadata": {},
   "outputs": [],
   "source": []
  },
  {
   "cell_type": "code",
   "execution_count": null,
   "id": "2fc9a46e-7164-4b57-97e2-4ba63a55dd83",
   "metadata": {},
   "outputs": [],
   "source": [
    "class Solution:\n",
    "    def maxSubarraySumCircular(self, nums: List[int]) -> int:\n",
    "        currMax = nums[0]\n",
    "        maxi = nums[0]\n",
    "        currMin = nums[0]\n",
    "        mini = nums[0]\n",
    "        for num in nums[1:]:\n",
    "            currMax = max(num, currMax + num)\n",
    "            maxi = max(currMax, maxi)\n",
    "            currMin = min(num, currMin + num)\n",
    "            mini = min(currMin, mini)\n",
    "        if sum(nums) == mini:    \n",
    "            return maxi\n",
    "        return max(maxi, sum(nums) - mini)"
   ]
  },
  {
   "cell_type": "code",
   "execution_count": null,
   "id": "fc30d7c5-7b8f-4917-af7f-406955decec4",
   "metadata": {},
   "outputs": [],
   "source": []
  },
  {
   "cell_type": "code",
   "execution_count": null,
   "id": "3a8773f6-e7b8-49aa-9cb8-586d198126e6",
   "metadata": {},
   "outputs": [],
   "source": [
    "class Solution:\n",
    "    def countStudents(self, students: List[int], sandwiches: List[int]) -> int:\n",
    "        while(len(students)!=0):\n",
    "            if(sandwiches[0] not in students):\n",
    "                return(len(students))\n",
    "            if(students[0]==sandwiches[0]):\n",
    "                students.pop(0)\n",
    "                sandwiches.pop(0)\n",
    "            else:\n",
    "                a=students.pop(0)\n",
    "                students.append(a)\n",
    "        return(len(students))"
   ]
  },
  {
   "cell_type": "code",
   "execution_count": null,
   "id": "ce8298a4-c28d-4538-8efe-49a44d7ea340",
   "metadata": {},
   "outputs": [],
   "source": []
  },
  {
   "cell_type": "code",
   "execution_count": null,
   "id": "16804639-a548-4672-8cdc-3224f7bf7b88",
   "metadata": {},
   "outputs": [],
   "source": [
    "from collections import deque\n",
    "\n",
    "class RecentCounter:\n",
    "\n",
    "    def __init__(self):\n",
    "        self.queue = deque()\n",
    "\n",
    "    def ping(self, t: int) -> int:\n",
    "        self.queue.append(t)\n",
    "        while t - 3000 > self.queue[0]:\n",
    "            self.queue.popleft()\n",
    "        return len(self.queue)"
   ]
  },
  {
   "cell_type": "code",
   "execution_count": null,
   "id": "5f2a0e5d-8d2f-4f7b-bfe3-18845e88ec78",
   "metadata": {},
   "outputs": [],
   "source": []
  },
  {
   "cell_type": "code",
   "execution_count": null,
   "id": "8fb22cf9-6f12-4395-9b6c-9e7e2feffdb3",
   "metadata": {},
   "outputs": [],
   "source": [
    "class Solution {\n",
    "public:\n",
    "    int findTheWinner(int n, int k) {\n",
    "        int ans = 0;\n",
    "        for(int i = 1; i <= n; i++)\n",
    "        {\n",
    "            ans = (ans + k) % i;\n",
    "        }\n",
    "        return ans + 1;\n",
    "    }\n",
    "};"
   ]
  },
  {
   "cell_type": "code",
   "execution_count": null,
   "id": "0dd42050-992e-4769-8006-02bf5881b86c",
   "metadata": {},
   "outputs": [],
   "source": []
  },
  {
   "cell_type": "code",
   "execution_count": null,
   "id": "77960cbd-21b3-4965-83d8-8ab9316d1890",
   "metadata": {},
   "outputs": [],
   "source": [
    "class Solution(object):\n",
    "    def deckRevealedIncreasing(self, deck):\n",
    "        deck.sort(reverse=True)\n",
    "        res = []\n",
    "        for i in deck:\n",
    "            if len(res) > 0:\n",
    "                res.insert(0, res.pop())\n",
    "            res.insert(0, i)\n",
    "        return res"
   ]
  },
  {
   "cell_type": "code",
   "execution_count": null,
   "id": "8b255776-e10a-49d1-8a95-02fada8c0f83",
   "metadata": {},
   "outputs": [],
   "source": []
  },
  {
   "cell_type": "code",
   "execution_count": null,
   "id": "e5e7e19d-caf1-4008-8b09-efb807bbf063",
   "metadata": {},
   "outputs": [],
   "source": [
    "class FrontMiddleBackQueue:\n",
    "\n",
    "    def __init__(self):\n",
    "        self.ls = []\n",
    "        \n",
    "\n",
    "    def pushFront(self, val: int) -> None:\n",
    "        self.ls.insert(0,val)\n",
    "\n",
    "    def pushMiddle(self, val: int) -> None:\n",
    "        self.ls.insert(len(self.ls)//2, val)\n",
    "\n",
    "    def pushBack(self, val: int) -> None:\n",
    "        self.ls.append(val)\n",
    "        \n",
    "\n",
    "    def popFront(self) -> int:\n",
    "        if self.ls:\n",
    "            return self.ls.pop(0)\n",
    "        else:\n",
    "            return -1\n",
    "\n",
    "    def popMiddle(self) -> int:\n",
    "        if len(self.ls) == 0:\n",
    "            return -1\n",
    "        elif len(self.ls) % 2 == 1:\n",
    "            return self.ls.pop(len(self.ls)//2)\n",
    "        else: return self.ls.pop(len(self.ls)//2-1)\n",
    "    def popBack(self) -> int:\n",
    "        return self.ls.pop() if self.ls else -1\n",
    "\n",
    "\n",
    "# Your FrontMiddleBackQueue object will be instantiated and called as such:\n",
    "# obj = FrontMiddleBackQueue()"
   ]
  },
  {
   "cell_type": "code",
   "execution_count": null,
   "id": "5ab8e4a8-cce8-4afb-8257-a102cb94ee36",
   "metadata": {},
   "outputs": [],
   "source": []
  },
  {
   "cell_type": "code",
   "execution_count": null,
   "id": "17eec08a-0be7-4262-8adf-68b5bcc6fe81",
   "metadata": {},
   "outputs": [],
   "source": [
    "class DataStream:\n",
    "\n",
    "    def __init__(self, value: int, k: int):\n",
    "        self.count = 0 \n",
    "        self.value = value\n",
    "        self.k = k\n",
    "\n",
    "    def consec(self, num: int) -> bool:\n",
    "        if num == self.value:\n",
    "            self.count += 1\n",
    "        else: \n",
    "            self.count = 0 \n",
    "            \n",
    "        return self.count >= self.k"
   ]
  },
  {
   "cell_type": "code",
   "execution_count": null,
   "id": "e0f90d9b-e1d9-4a07-be93-72a1bb90facd",
   "metadata": {},
   "outputs": [],
   "source": []
  },
  {
   "cell_type": "code",
   "execution_count": null,
   "id": "0fbe0ea2-14fa-4787-92e3-ce1444b05a15",
   "metadata": {},
   "outputs": [],
   "source": []
  }
 ],
 "metadata": {
  "kernelspec": {
   "display_name": "Python 3 (ipykernel)",
   "language": "python",
   "name": "python3"
  },
  "language_info": {
   "codemirror_mode": {
    "name": "ipython",
    "version": 3
   },
   "file_extension": ".py",
   "mimetype": "text/x-python",
   "name": "python",
   "nbconvert_exporter": "python",
   "pygments_lexer": "ipython3",
   "version": "3.10.6"
  }
 },
 "nbformat": 4,
 "nbformat_minor": 5
}
