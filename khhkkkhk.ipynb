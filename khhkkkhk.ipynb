{
 "cells": [
  {
   "cell_type": "code",
   "execution_count": null,
   "id": "001aa10a-d5ff-4754-8417-1071a2daff02",
   "metadata": {},
   "outputs": [],
   "source": [
    "class Solution(object):\n",
    "    def merge(self, intervals):\n",
    "        \"\"\"\n",
    "        :type intervals: List[List[int]]\n",
    "        :rtype: List[List[int]]\n",
    "        \"\"\"\n",
    "        intervals=sorted(intervals, key=lambda x:x[0])\n",
    "        l=len(intervals)-1\n",
    "        i=0\n",
    "        while(i<l):\n",
    "            if(intervals[i][1]>=intervals[i+1][0] and intervals[i][1]<=intervals[i+1][1]):\n",
    "                arr=[intervals[i][0],intervals[i+1][1]]\n",
    "                intervals.remove(intervals[i])\n",
    "                intervals.remove(intervals[i])\n",
    "                intervals.insert(i,arr)\n",
    "                l-=1\n",
    "                i-=1\n",
    "            elif(intervals[i][1]>=intervals[i+1][0] and intervals[i][1]>=intervals[i+1][1]):\n",
    "                intervals.remove(intervals[i+1])\n",
    "                l-=1\n",
    "                i-=1      \n",
    "            i+=1\n",
    "        return intervals"
   ]
  },
  {
   "cell_type": "code",
   "execution_count": null,
   "id": "88d6ff2a-4248-412e-9124-4a607437424f",
   "metadata": {},
   "outputs": [],
   "source": []
  },
  {
   "cell_type": "code",
   "execution_count": null,
   "id": "389ac0a8-8374-4d88-aaf9-d1b51c791147",
   "metadata": {},
   "outputs": [],
   "source": [
    "class Solution:\n",
    "    def sortColors(self, nums: List[int]) -> None:\n",
    "        left = count = 0\n",
    "        right = len(nums)-1\n",
    "        while count <= right:\n",
    "            if nums[count] == 2:\n",
    "                nums[count], nums[right] = nums[right], nums[count]\n",
    "                right -= 1\n",
    "            elif nums[count] == 0:\n",
    "                nums[count], nums[left] = nums[left], nums[count]\n",
    "                left += 1\n",
    "                count += 1\n",
    "            else:\n",
    "                count += 1"
   ]
  },
  {
   "cell_type": "code",
   "execution_count": null,
   "id": "8ab837d2-e948-428f-a425-7bc98f04c0fd",
   "metadata": {},
   "outputs": [],
   "source": []
  },
  {
   "cell_type": "code",
   "execution_count": null,
   "id": "9e84e1d7-54ee-4106-a4a9-91f1af6ea4e2",
   "metadata": {},
   "outputs": [],
   "source": [
    "def firstBadVersion(self, n: int) -> int:\n",
    "        low = 1\n",
    "        high = n\n",
    "        version = 0\n",
    "        \n",
    "        while low <= high:\n",
    "            mid = (low+high)//2\n",
    "            badver = isBadVersion(mid)\n",
    "            if badver == True:\n",
    "                version = mid\n",
    "                high = mid - 1\n",
    "            elif badver == False:\n",
    "                low = mid + 1\n",
    "        return version"
   ]
  },
  {
   "cell_type": "code",
   "execution_count": null,
   "id": "8f506c29-e40c-4a50-a301-a7de9275c236",
   "metadata": {},
   "outputs": [],
   "source": []
  },
  {
   "cell_type": "code",
   "execution_count": null,
   "id": "bd5ee9dd-fc89-4eb8-bb49-7339847937b9",
   "metadata": {},
   "outputs": [],
   "source": [
    "class Solution:\n",
    "    def maximumGap(self, nums: List[int]) -> int:\n",
    "        if len(nums)==1: return 0\n",
    "        minVal, maxVal, leng = min(nums), max(nums), len(nums)\n",
    "        if maxVal-minVal==0: return 0\n",
    "        buckectSize = max(1, (maxVal-minVal) // (leng-1))\n",
    "        numBucket = (maxVal-minVal) // buckectSize + 1\n",
    "        bucketMin,  bucketMax = [float('inf')] * numBucket, [-1] * numBucket\n",
    "        for n in nums:\n",
    "            index = (n-minVal) // buckectSize\n",
    "            bucketMin[index] = min(bucketMin[index], n)\n",
    "            bucketMax[index] = max(bucketMax[index], n)\n",
    "        maxGap = buckectSize\n",
    "        previousMax = -1\n",
    "        for i in range(numBucket):\n",
    "            if bucketMax[i] == -1: \n",
    "                continue\n",
    "            if previousMax != -1:\n",
    "                maxGap = max(bucketMin[i] - previousMax, maxGap)\n",
    "            previousMax = bucketMax[i]\n",
    "        return maxGap"
   ]
  },
  {
   "cell_type": "code",
   "execution_count": null,
   "id": "b94bb891-6225-4dd5-a0a1-b89f15832e6d",
   "metadata": {},
   "outputs": [],
   "source": []
  },
  {
   "cell_type": "code",
   "execution_count": null,
   "id": "b981b5c1-a3e6-4cea-bca0-7b9ea6fbd097",
   "metadata": {},
   "outputs": [],
   "source": [
    "class Solution:\n",
    "    def containsDuplicate(self, nums: List[int]) -> bool:\n",
    "        return len(set(nums))!=len(nums)"
   ]
  },
  {
   "cell_type": "code",
   "execution_count": null,
   "id": "11e7295e-6b05-459f-816f-87185d1b3698",
   "metadata": {},
   "outputs": [],
   "source": []
  },
  {
   "cell_type": "code",
   "execution_count": null,
   "id": "b5fc7c73-28d7-4e67-8e4d-3f1fd40fabf8",
   "metadata": {},
   "outputs": [],
   "source": [
    "class Solution:\n",
    "    def findMinArrowShots(self, points: List[List[int]]) -> int:\n",
    "        points.sort(key = lambda x: x[0])\n",
    "\n",
    "        # keep track of the end coordinate of the last balloon we burst\n",
    "        last_end = float('-inf')\n",
    "        arrow_count = 0\n",
    "\n",
    "        for start, end in points:\n",
    "            # if the current balloon starts before the last one ended,\n",
    "            # we can burst it with the same arrow\n",
    "            if start <= last_end:\n",
    "                last_end = min(last_end, end)\n",
    "            else:\n",
    "                # otherwise, we need a new arrow to burst the balloon\n",
    "                arrow_count += 1\n",
    "                last_end = end\n",
    "\n",
    "        return arrow_count"
   ]
  },
  {
   "cell_type": "code",
   "execution_count": null,
   "id": "1f8950e6-67fb-4104-9f23-9c72d4a0f0db",
   "metadata": {},
   "outputs": [],
   "source": []
  },
  {
   "cell_type": "code",
   "execution_count": null,
   "id": "48d3448f-3d2e-4c49-a385-cafe2b70d87c",
   "metadata": {},
   "outputs": [],
   "source": [
    "class Solution:\n",
    "    def lengthOfLIS(self, nums: List[int]) -> int:\n",
    "        if not nums:\n",
    "            return 0\n",
    "\n",
    "        n = len(nums)\n",
    "        temp = [1] * n\n",
    "\n",
    "        for i in range(1, n):\n",
    "            for j in range(i):\n",
    "                if nums[i] > nums[j]:\n",
    "                    temp[i] = max(temp[i], temp[j] + 1)\n",
    "\n",
    "        #return max(temp)\n",
    "\n",
    "        print(temp)\n",
    "        return max(temp)"
   ]
  },
  {
   "cell_type": "code",
   "execution_count": null,
   "id": "d42672f2-1ba4-44f3-adc1-690f58eee438",
   "metadata": {},
   "outputs": [],
   "source": []
  },
  {
   "cell_type": "code",
   "execution_count": null,
   "id": "32cb2572-2068-4237-a143-500fa6e65404",
   "metadata": {},
   "outputs": [],
   "source": []
  },
  {
   "cell_type": "code",
   "execution_count": null,
   "id": "c51fcd58-b1b5-4004-b8b9-98527133b791",
   "metadata": {},
   "outputs": [],
   "source": []
  },
  {
   "cell_type": "code",
   "execution_count": null,
   "id": "45a19e5c-ac71-48d9-8ffc-2d47d2d82fa5",
   "metadata": {},
   "outputs": [],
   "source": []
  },
  {
   "cell_type": "code",
   "execution_count": null,
   "id": "9aa868f5-0f24-4284-97b2-39e9ae62b43c",
   "metadata": {},
   "outputs": [],
   "source": []
  },
  {
   "cell_type": "code",
   "execution_count": null,
   "id": "a720800a-8663-4e4b-8350-0541342f8acb",
   "metadata": {},
   "outputs": [],
   "source": []
  },
  {
   "cell_type": "code",
   "execution_count": null,
   "id": "6df45b62-9e60-49fe-b6ef-8400bf533462",
   "metadata": {},
   "outputs": [],
   "source": []
  },
  {
   "cell_type": "code",
   "execution_count": null,
   "id": "d9fb2aaf-e6ee-42d1-a839-45665bc32536",
   "metadata": {},
   "outputs": [],
   "source": []
  }
 ],
 "metadata": {
  "kernelspec": {
   "display_name": "Python 3 (ipykernel)",
   "language": "python",
   "name": "python3"
  },
  "language_info": {
   "codemirror_mode": {
    "name": "ipython",
    "version": 3
   },
   "file_extension": ".py",
   "mimetype": "text/x-python",
   "name": "python",
   "nbconvert_exporter": "python",
   "pygments_lexer": "ipython3",
   "version": "3.10.6"
  }
 },
 "nbformat": 4,
 "nbformat_minor": 5
}
