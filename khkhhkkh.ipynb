{
 "cells": [
  {
   "cell_type": "code",
   "execution_count": null,
   "id": "0da67b6d-3b02-4d39-9f03-28eec974a3b5",
   "metadata": {},
   "outputs": [],
   "source": [
    "class Node:\n",
    "    def __init__(self, data):\n",
    "        self.data = data # Assign data\n",
    "        self.left = None # Initialize left child\n",
    "        self.right = None # Initialize right child\n",
    "        \n",
    "ans = float(\"-infinity\")\n",
    "def findLargestSubtreeSum(root):\n",
    "    if root is None:\n",
    "        return 0\n",
    "    if root.left is None and root.right is None:\n",
    "        return root.data\n",
    "       \n",
    "    # Check for every subtree in left\n",
    "    sumleft = findLargestSubtreeSum(root.left)\n",
    "     \n",
    "    # Check for every subtree in right\n",
    "    sumright = findLargestSubtreeSum(root.right)\n",
    "     \n",
    "    # Sum of all the nodes in the subtree from root node\n",
    "    sumrootnode = sumleft + sumright + root.data\n",
    "    \n",
    "    \n",
    "    tempmax = max(sumleft, sumright)\n",
    "    tempmax = max(tempmax, sumrootnode)\n",
    "     \n",
    "    # Update the answer from temp, ans\n",
    "    global ans\n",
    "    ans = max(ans, tempmax)\n",
    "    return sumrootnode    \n",
    "\n",
    "if __name__ == '__main__':\n",
    "    root = Node(1)\n",
    "    root.left = Node(-2)\n",
    "    root.right = Node(3)\n",
    "    root.left.left = Node(4)\n",
    "    root.left.right = Node(5)\n",
    "    root.right.left = Node(-6)\n",
    "    root.right.right = Node(2)\n",
    "    findLargestSubtreeSum(root)\n",
    "    print(ans)"
   ]
  },
  {
   "cell_type": "code",
   "execution_count": null,
   "id": "1bf3a5f3-5053-480f-9755-1d519f591974",
   "metadata": {},
   "outputs": [],
   "source": []
  },
  {
   "cell_type": "code",
   "execution_count": null,
   "id": "579f03ab-8117-493b-a4ad-0e665495c7fd",
   "metadata": {},
   "outputs": [],
   "source": [
    "def bstFromPreorder(self, preorder: List[int]) -> Optional[TreeNode]:\n",
    "        i=[0]\n",
    "        def construct(preorder,i,bound):\n",
    "            if i[0]==len(preorder) or preorder[i[0]]>bound:\n",
    "                return None\n",
    "            root=TreeNode(preorder[i[0]])\n",
    "            i[0]+=1\n",
    "            root.left=construct(preorder,i,root.val)\n",
    "            root.right=construct(preorder,i,bound)\n",
    "            return root                           \n",
    "        return construct(preorder,i,float('inf'))\n",
    "    \n",
    "    \n",
    "  `` using preorder \n",
    "    \n",
    "    or\n",
    "    \n",
    "    \n",
    "    \n",
    "    \n",
    " class Node:\n",
    "    def __init__(self, data):\n",
    "        self.data = data\n",
    "        self.left = None\n",
    "        self.right = None\n",
    " \n",
    " \n",
    "# Function to get a new node\n",
    "def getNode(data):\n",
    " \n",
    "    # Allocate memory\n",
    "    newNode = Node(data)\n",
    " \n",
    "    # put in the data\n",
    "    newNode.data = data\n",
    "    newNode.left = None\n",
    "    newNode.right = None\n",
    "    return newNode   \n",
    "\n"
   ]
  },
  {
   "cell_type": "code",
   "execution_count": null,
   "id": "81e85444-fab9-4f59-aceb-362782244b94",
   "metadata": {},
   "outputs": [],
   "source": []
  },
  {
   "cell_type": "code",
   "execution_count": null,
   "id": "a7b6738a-a7aa-445a-9406-818ef13e8547",
   "metadata": {},
   "outputs": [],
   "source": [
    "from collections import deque\n",
    "class Solution:\n",
    "    def levelOrder(self, root: Optional[TreeNode]) -> List[List[int]]:\n",
    "        if not root:\n",
    "            return []\n",
    "        q = deque()\n",
    "        q.append(root)\n",
    "        res = []\n",
    "        while len(q):\n",
    "            lev = []\n",
    "            for i in range(len(q)):\n",
    "                el = q.popleft()\n",
    "                lev.append(el.val)\n",
    "                if el.left:\n",
    "                    q.append(el.left)\n",
    "                if el.right:\n",
    "                    q.append(el.right)\n",
    "            res.append(lev)      \n",
    "        return res"
   ]
  },
  {
   "cell_type": "code",
   "execution_count": null,
   "id": "c5494453-6ba4-4e46-bbf1-5992310f6216",
   "metadata": {},
   "outputs": [],
   "source": []
  },
  {
   "cell_type": "code",
   "execution_count": null,
   "id": "8d009af7-1587-437f-9f07-b1be5da55271",
   "metadata": {},
   "outputs": [],
   "source": []
  },
  {
   "cell_type": "code",
   "execution_count": null,
   "id": "7fb677be-ff8f-4a16-aff3-ae01624ff332",
   "metadata": {},
   "outputs": [],
   "source": []
  },
  {
   "cell_type": "code",
   "execution_count": null,
   "id": "667676ad-d0ee-428d-ad7c-3b426e9f5b6e",
   "metadata": {},
   "outputs": [],
   "source": []
  },
  {
   "cell_type": "code",
   "execution_count": null,
   "id": "bed69e33-5a76-4c25-82d2-609f2b5c3b20",
   "metadata": {},
   "outputs": [],
   "source": []
  },
  {
   "cell_type": "code",
   "execution_count": null,
   "id": "4e5f8837-b561-4079-8095-f99e3698757b",
   "metadata": {},
   "outputs": [],
   "source": []
  },
  {
   "cell_type": "code",
   "execution_count": null,
   "id": "5f9bbc97-7bfd-4cc8-8f27-76beb5ce5296",
   "metadata": {},
   "outputs": [],
   "source": []
  },
  {
   "cell_type": "code",
   "execution_count": null,
   "id": "76ff3003-7246-4145-869a-b18e2aad0f98",
   "metadata": {},
   "outputs": [],
   "source": []
  },
  {
   "cell_type": "code",
   "execution_count": null,
   "id": "5edcd94e-77a8-40bd-a3bc-ebe311938932",
   "metadata": {},
   "outputs": [],
   "source": []
  },
  {
   "cell_type": "code",
   "execution_count": null,
   "id": "0111a068-b62e-4460-9c1c-3a5be042c67f",
   "metadata": {},
   "outputs": [],
   "source": []
  },
  {
   "cell_type": "code",
   "execution_count": null,
   "id": "1e686f2e-6578-4974-ad00-d7fe4ec3a58a",
   "metadata": {},
   "outputs": [],
   "source": []
  },
  {
   "cell_type": "code",
   "execution_count": null,
   "id": "69451afa-b1f2-4c7e-b6d5-62795a031d62",
   "metadata": {},
   "outputs": [],
   "source": []
  }
 ],
 "metadata": {
  "kernelspec": {
   "display_name": "Python 3 (ipykernel)",
   "language": "python",
   "name": "python3"
  },
  "language_info": {
   "codemirror_mode": {
    "name": "ipython",
    "version": 3
   },
   "file_extension": ".py",
   "mimetype": "text/x-python",
   "name": "python",
   "nbconvert_exporter": "python",
   "pygments_lexer": "ipython3",
   "version": "3.10.6"
  }
 },
 "nbformat": 4,
 "nbformat_minor": 5
}
