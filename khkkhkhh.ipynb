{
 "cells": [
  {
   "cell_type": "code",
   "execution_count": null,
   "id": "2537da38-9698-4c9d-ade5-f3f18d466bab",
   "metadata": {},
   "outputs": [],
   "source": [
    "def reverse_string(string):\n",
    "    reversed_string = \"\"\n",
    "    for i in range(len(string)-1, -1, -1):\n",
    "        reversed_string += string[i]\n",
    "    return reversed_string\n",
    "\n",
    "string = \"hello world\"\n",
    "reversed_string = reverse_string(string)\n",
    "print(reversed_string)"
   ]
  },
  {
   "cell_type": "code",
   "execution_count": null,
   "id": "f0946c5d-8adc-42cf-be94-9617ecaff375",
   "metadata": {},
   "outputs": [],
   "source": [
    "def is_palindrome(string):\n",
    "    # remove all non-alphanumeric characters and convert to lowercase\n",
    "    string = ''.join(e for e in string if e.isalnum()).lower()\n",
    "    return string == string[::-1]\n",
    "\n",
    "string = \"A man, a plan, a canal: Panama\"\n",
    "if is_palindrome(string):\n",
    "    print(\"The string is a palindrome.\")\n",
    "else:\n",
    "    print(\"The string is not a palindrome.\")"
   ]
  },
  {
   "cell_type": "code",
   "execution_count": null,
   "id": "88f21eb8-ed94-428b-b013-d1405b097f07",
   "metadata": {},
   "outputs": [],
   "source": [
    "def find_largest(numbers):\n",
    "    largest = numbers[0]\n",
    "    for number in numbers:\n",
    "        if number > largest:\n",
    "            largest = number\n",
    "    return largest\n",
    "\n",
    "numbers = [3, 7, 2, 8, 1, 9, 4]\n",
    "largest = find_largest(numbers)\n",
    "print(largest)"
   ]
  },
  {
   "cell_type": "code",
   "execution_count": null,
   "id": "f0ba31ed-9429-44f6-97f2-130a30f5c312",
   "metadata": {},
   "outputs": [],
   "source": [
    "def count_occurrences(numbers):\n",
    "    counts = {}\n",
    "    for number in numbers:\n",
    "        if number in counts:\n",
    "            counts[number] += 1\n",
    "        else:\n",
    "            counts[number] = 1\n",
    "    return counts\n",
    "\n",
    "numbers = [1, 2, 3, 2, 1, 4, 1, 2]\n",
    "occurrences = count_occurrences(numbers)\n",
    "print(occurrences)"
   ]
  },
  {
   "cell_type": "code",
   "execution_count": null,
   "id": "b2aa5e2d-cc24-4250-8e6b-bed1d8d57088",
   "metadata": {},
   "outputs": [],
   "source": [
    "def find_second_largest(numbers):\n",
    "    largest = None\n",
    "    second_largest = None\n",
    "    for number in numbers:\n",
    "        if largest is None or number > largest:\n",
    "            second_largest = largest\n",
    "            largest = number\n",
    "        elif second_largest is None or number > second_largest:\n",
    "            second_largest = number\n",
    "    return second_largest\n",
    "\n",
    "numbers = [3, 7, 2, 8, 1, 9, 4]\n",
    "second_largest = find_second_largest(numbers)\n",
    "print(second_largest)"
   ]
  },
  {
   "cell_type": "code",
   "execution_count": null,
   "id": "d0f9a6ee-259c-4de0-8f07-944bdf374a53",
   "metadata": {},
   "outputs": [],
   "source": [
    "def remove_duplicates(numbers):\n",
    "    unique_numbers = []\n",
    "    for number in numbers:\n",
    "        if number not in unique_numbers:\n",
    "            unique_numbers.append(number)\n",
    "    return unique_numbers\n",
    "\n",
    "numbers = [1, 2, 3, 2, 1, 4, 1, 2]\n",
    "unique_numbers = remove_duplicates(numbers)\n",
    "print(unique_numbers)"
   ]
  },
  {
   "cell_type": "code",
   "execution_count": null,
   "id": "e84e2801-d3fe-4922-befc-6537df0c22e9",
   "metadata": {},
   "outputs": [],
   "source": [
    "def factorial(n):\n",
    "    if n == 0:\n",
    "        return 1\n",
    "    else:\n",
    "        return n * factorial(n-1)\n",
    "\n",
    "n = 5\n",
    "result = factorial(n)\n",
    "print(result)"
   ]
  },
  {
   "cell_type": "code",
   "execution_count": null,
   "id": "2fadc074-ef78-442a-8152-30d9e30f93d5",
   "metadata": {},
   "outputs": [],
   "source": [
    "def is_prime(n):\n",
    "    if n <= 1:\n",
    "        return False\n",
    "    for i in range(2, int(n**0.5)+1):\n",
    "        if n % i == 0:\n",
    "            return False\n",
    "    return True\n",
    "\n",
    "n = 17\n",
    "if is_prime(n):\n",
    "    print(n, \"is a prime number.\")\n",
    "else:\n",
    "    print(n, \"is not a prime number.\")"
   ]
  },
  {
   "cell_type": "code",
   "execution_count": null,
   "id": "e4e8df0a-132b-4931-968e-f5de93312a45",
   "metadata": {},
   "outputs": [],
   "source": [
    "def sort_numbers(numbers):\n",
    "    sorted_numbers = []\n",
    "    while numbers:\n",
    "        minimum = numbers[0]\n",
    "        for number in numbers:\n",
    "            if number < minimum:\n",
    "                minimum = number\n",
    "        sorted_numbers.append(minimum)\n",
    "        numbers.remove(minimum)\n",
    "    return sorted_numbers\n",
    "\n",
    "numbers = [3, 7, 2, 8, 1, 9, 4]\n",
    "sorted_numbers = sort_numbers(numbers)\n",
    "print(sorted_numbers)"
   ]
  },
  {
   "cell_type": "code",
   "execution_count": null,
   "id": "1fa3c996-15a8-4b5e-99f1-c618ee42119c",
   "metadata": {},
   "outputs": [],
   "source": [
    "def sum_numbers(numbers):\n",
    "    total = 0\n",
    "    for number in numbers:\n",
    "        total += number\n",
    "    return total\n",
    "\n",
    "numbers = [1, 2, 3, 4, 5]\n",
    "total = sum_numbers(numbers)\n",
    "print(total)"
   ]
  },
  {
   "cell_type": "code",
   "execution_count": null,
   "id": "0fba6f1b-ac49-4f54-a738-bbe072cf06ee",
   "metadata": {},
   "outputs": [],
   "source": [
    "def find_common_elements(list1, list2):\n",
    "    common_elements = []\n",
    "    for element in list1:\n",
    "        if element in list2 and element not in common_elements:\n",
    "            common_elements.append(element)\n",
    "    return common_elements\n",
    "\n",
    "list1 = [1, 2, 3, 4, 5]\n",
    "list2 = [3, 4, 5, 6, 7]\n",
    "common_elements = find_common_elements(list1, list2)\n",
    "print(common_elements)"
   ]
  },
  {
   "cell_type": "code",
   "execution_count": null,
   "id": "1eb6f901-67ae-4938-aa24-8cee51f08c47",
   "metadata": {},
   "outputs": [],
   "source": [
    "def is_anagram(string1, string2):\n",
    "    # remove all non-alphanumeric characters and convert to lowercase\n",
    "    string1 = ''.join(e for e in string1 if e.isalnum()).lower()\n",
    "    string2 = ''.join(e for e in string2 if e.isalnum()).lower()\n",
    "    # sort the strings and compare\n",
    "    return sorted(string1) == sorted(string2)\n",
    "\n",
    "string1 = \"Eleven plus two\"\n",
    "string2 = \"Twelve plus one\"\n",
    "if is_anagram(string1, string2):\n",
    "    print(\"The strings are anagrams.\")\n",
    "else:\n",
    "    print(\"The strings are not anagrams.\")"
   ]
  },
  {
   "cell_type": "code",
   "execution_count": null,
   "id": "dd7730f9-1e34-483c-a5fb-b703edbc6b17",
   "metadata": {},
   "outputs": [],
   "source": [
    "def generate_permutations(string):\n",
    "    if len(string) <= 1:\n",
    "        return [string]\n",
    "    permutations = []\n",
    "    for i in range(len(string)):\n",
    "        char = string[i]\n",
    "        remaining_chars = string[:i] + string[i+1:]\n",
    "        for permutation in generate_permutations(remaining_chars):\n",
    "            permutations.append(char + permutation)\n",
    "    return permutations\n",
    "\n",
    "string = \"abc\"\n",
    "permutations = generate_permutations(string)\n",
    "print(permutations)  # ['abc', 'acb', 'bac', 'bca', 'cab', 'cba']"
   ]
  },
  {
   "cell_type": "code",
   "execution_count": null,
   "id": "63440958-fe43-4588-b055-e38a8dca03fa",
   "metadata": {},
   "outputs": [],
   "source": [
    "def fibonacci(n):\n",
    "    if n == 0:\n",
    "        return []\n",
    "    elif n == 1:\n",
    "        return [0]\n",
    "    elif n == 2:\n",
    "        return [0, 1]\n",
    "    else:\n",
    "        sequence = [0, 1]\n",
    "        for i in range(2, n):\n",
    "            sequence.append(sequence[i-1] + sequence[i-2])\n",
    "        return sequence\n",
    "\n",
    "n = 7\n",
    "sequence = fibonacci(n)\n",
    "print(sequence)"
   ]
  },
  {
   "cell_type": "code",
   "execution_count": null,
   "id": "18113c8e-2677-4168-88b7-dbe188cdb98a",
   "metadata": {},
   "outputs": [],
   "source": [
    "def find_median(numbers):\n",
    "    sorted_numbers = sorted(numbers)\n",
    "    length = len(sorted_numbers)\n",
    "    if length % 2 == 0:\n",
    "        median = (sorted_numbers[length//2-1] + sorted_numbers[length//2]) / 2\n",
    "    else:\n",
    "        median = sorted_numbers[length//2]\n",
    "    return median\n",
    "\n",
    "numbers = [3, 7, 2, 8, 1, 9, 4]\n",
    "median = find_median(numbers)\n",
    "print(median) "
   ]
  },
  {
   "cell_type": "code",
   "execution_count": null,
   "id": "9883d5e8-7b74-41e5-9194-20a5965c40de",
   "metadata": {},
   "outputs": [],
   "source": [
    "def is_sorted(numbers):\n",
    "    for i in range(len(numbers)-1):\n",
    "        if numbers[i] > numbers[i+1]:\n",
    "            return False\n",
    "    return True\n",
    "\n",
    "numbers = [1, 2, 3, 4, 5]\n",
    "if is_sorted(numbers):\n",
    "    print(\"The list is sorted.\")\n",
    "else:\n",
    "    print(\"The list is not sorted.\")"
   ]
  },
  {
   "cell_type": "code",
   "execution_count": null,
   "id": "9f51ed3e-6804-4855-bbe8-41675220f1cf",
   "metadata": {},
   "outputs": [],
   "source": [
    "def find_intersection(list1, list2):\n",
    "    intersection = []\n",
    "    for element in list1:\n",
    "        if element in list2 and element not in intersection:\n",
    "            intersection.append(element)\n",
    "    return intersection\n",
    "\n",
    "list1 = [1, 2, 3, 4, 5]\n",
    "list2 = [3, 4, 5, 6, 7]\n",
    "intersection = find_intersection(list1, list2)\n",
    "print(intersection)"
   ]
  },
  {
   "cell_type": "code",
   "execution_count": null,
   "id": "9569e59b-80d4-4ad6-986c-584868e3443a",
   "metadata": {},
   "outputs": [],
   "source": [
    "def max_subarray_sum(numbers):\n",
    "    max_sum = float('-inf')\n",
    "    current_sum = 0\n",
    "    for number in numbers:\n",
    "        current_sum += number\n",
    "        if current_sum > max_sum:\n",
    "            max_sum = current_sum"
   ]
  },
  {
   "cell_type": "code",
   "execution_count": null,
   "id": "c66a1eca-8aa3-4ff2-8997-3735d1af28b9",
   "metadata": {},
   "outputs": [],
   "source": [
    "def remove_vowels(string):\n",
    "    vowels = \"aeiouAEIOU\"\n",
    "    result = \"\"\n",
    "    for char in string:\n",
    "        if char not in vowels:\n",
    "            result += char\n",
    "    return result\n",
    "\n",
    "string = \"Hello, World!\"\n",
    "result = remove_vowels(string)\n",
    "print(result)"
   ]
  },
  {
   "cell_type": "code",
   "execution_count": null,
   "id": "9b5ad817-92a6-40ed-b778-e785cfda0f56",
   "metadata": {},
   "outputs": [],
   "source": [
    "def reverse_words(sentence):\n",
    "    words = sentence.split()\n",
    "    words.reverse()\n",
    "    return \" \".join(words)\n",
    "\n",
    "sentence = \"Hello World, how are you?\"\n",
    "result = reverse_words(sentence)\n",
    "print(result)"
   ]
  },
  {
   "cell_type": "code",
   "execution_count": null,
   "id": "91e4392c-1e7c-4e86-88c9-46732873d2e9",
   "metadata": {},
   "outputs": [],
   "source": [
    "def are_anagrams(str1, str2):\n",
    "    if len(str1) != len(str2):\n",
    "        return False\n",
    "    str1_counts = {}\n",
    "    for char in str1:\n",
    "        if char in str1_counts:\n",
    "            str1_counts[char] += 1\n",
    "        else:\n",
    "            str1_counts[char] = 1\n",
    "    for char in str2:\n",
    "        if char not in str1_counts or str1_counts[char] == 0:\n",
    "            return False\n",
    "        str1_counts[char] -= 1\n",
    "    return True\n",
    "\n",
    "str1 = \"listen\"\n",
    "str2 = \"silent\"\n",
    "result = are_anagrams(str1, str2)\n",
    "print(result) "
   ]
  },
  {
   "cell_type": "code",
   "execution_count": null,
   "id": "d58c5e5a-0f28-4c84-8177-f5b5ff29d2fe",
   "metadata": {},
   "outputs": [],
   "source": [
    "def first_non_repeating_char(string):\n",
    "    char_counts = {}\n",
    "    for char in string:\n",
    "        if char in char_counts:\n",
    "            char_counts[char] += 1\n",
    "        else:\n",
    "            char_counts[char] = 1\n",
    "    for char in string:\n",
    "        if char_counts[char] == 1:\n",
    "            return char\n",
    "    return None\n",
    "\n",
    "string = \"leetcode\"\n",
    "result = first_non_repeating_char(string)\n",
    "print(result)"
   ]
  },
  {
   "cell_type": "code",
   "execution_count": null,
   "id": "7634b92a-62f2-4203-bfc7-9a4f62ff8671",
   "metadata": {},
   "outputs": [],
   "source": [
    "def prime_factors(n):\n",
    "    factors = []\n",
    "    i = 2\n",
    "    while i * i <= n:\n",
    "        if n % i:\n",
    "            i += 1\n",
    "        else:\n",
    "            n //= i\n",
    "            factors.append(i)\n",
    "    if n > 1:\n",
    "        factors.append(n)\n",
    "    return factors\n",
    "\n",
    "n = 84\n",
    "result = prime_factors(n)\n",
    "print(result)"
   ]
  },
  {
   "cell_type": "code",
   "execution_count": null,
   "id": "dd758884-81e8-49e0-92e7-0f731a17879d",
   "metadata": {},
   "outputs": [],
   "source": [
    "def is_power_of_two(n):\n",
    "    if n == 0:\n",
    "        return False\n",
    "    while n % 2 == 0:\n",
    "        n //= 2\n",
    "    return n == 1\n",
    "\n",
    "n = 16\n",
    "result = is_power_of_two(n)\n",
    "print(result)"
   ]
  },
  {
   "cell_type": "code",
   "execution_count": null,
   "id": "40cef34e-49e0-46c4-840c-7ff0ba267c5d",
   "metadata": {},
   "outputs": [],
   "source": [
    "def merge_sorted_lists(list1, list2):\n",
    "    i = j = 0\n",
    "    result = []\n",
    "    while i < len(list1) and j < len(list2):\n",
    "        if list1[i] < list2[j]:\n",
    "            result.append(list1[i])\n",
    "            i += 1\n",
    "        else:\n",
    "            result.append(list2[j])\n",
    "            j += 1\n",
    "    result += list1[i:]\n",
    "    result += list2[j:]\n",
    "    return result\n",
    "\n",
    "list1 = [1, 3, 5, 7]\n",
    "list2 = [2, 4, 6, 8]\n",
    "result = merge_sorted_lists(list1, list2)\n",
    "print(result)"
   ]
  },
  {
   "cell_type": "code",
   "execution_count": null,
   "id": "a89690ff-b804-4d36-ab81-fe016690fab3",
   "metadata": {},
   "outputs": [],
   "source": [
    "from collections import Counter\n",
    "\n",
    "def find_mode(numbers):\n",
    "    count = Counter(numbers)\n",
    "    mode = count.most_common(1)[0][0]\n",
    "    return mode\n",
    "\n",
    "numbers = [1, 2, 2, 3, 3, 3, 4, 4, 4, 4]\n",
    "result = find_mode(numbers)\n",
    "print(result)"
   ]
  },
  {
   "cell_type": "code",
   "execution_count": null,
   "id": "cc4c6064-5ecb-49d1-b870-d80b272b4780",
   "metadata": {},
   "outputs": [],
   "source": [
    "def gcd(a, b):\n",
    "    if b == 0:\n",
    "        return a\n",
    "    return gcd(b, a % b)\n",
    "\n",
    "a = 36\n",
    "b = 24\n",
    "result = gcd(a, b)\n",
    "print(result) "
   ]
  },
  {
   "cell_type": "code",
   "execution_count": null,
   "id": "40ce8641-9f71-4903-b8f0-c095fa289579",
   "metadata": {},
   "outputs": [],
   "source": [
    "def sqrt(n):\n",
    "    if n < 0:\n",
    "        raise ValueError(\"Cannot compute square root of negative number\")\n",
    "    if n == 0:\n",
    "        return 0\n",
    "    x = n\n",
    "    while True:\n",
    "        root = (x + n // x) // 2\n",
    "        if root >= x:\n",
    "            return x\n",
    "        x = root\n",
    "\n",
    "n = 25\n",
    "result = sqrt(n)\n",
    "print(result)"
   ]
  },
  {
   "cell_type": "code",
   "execution_count": null,
   "id": "9aa82442-4dec-45a4-ba34-786935651d76",
   "metadata": {},
   "outputs": [],
   "source": [
    "import re\n",
    "\n",
    "def is_palindrome(s):\n",
    "    s = re.sub(r'\\W+', '', s.lower())\n",
    "    return s == s[::-1]\n",
    "\n",
    "string = \"A man, a plan, a canal: Panama\"\n",
    "result = is_palindrome(string)\n",
    "print(result) "
   ]
  },
  {
   "cell_type": "code",
   "execution_count": null,
   "id": "d9a9dd05-d3e7-4c50-b0c1-7d458562c962",
   "metadata": {},
   "outputs": [],
   "source": [
    "def find_min(nums):\n",
    "    left, right = 0, len(nums) - 1\n",
    "    while left < right:\n",
    "        mid = (left + right) // 2\n",
    "        if nums[mid] > nums[right]:\n",
    "            left = mid + 1\n",
    "        else:\n",
    "            right = mid\n",
    "    return nums[left]\n",
    "\n",
    "nums = [4, 5, 6, 7, 0, 1, 2]\n",
    "result = find_min(nums)\n",
    "print(result)"
   ]
  },
  {
   "cell_type": "code",
   "execution_count": null,
   "id": "a353b538-a71b-407d-9b06-1327e47af664",
   "metadata": {},
   "outputs": [],
   "source": [
    "def sum_even_numbers(numbers):\n",
    "    total = 0\n",
    "    for num in numbers:\n",
    "        if num % 2 == 0:\n",
    "            total += num\n",
    "    return total\n",
    "\n",
    "numbers = [1, 2, 3, 4, 5, 6, 7, 8, 9]\n",
    "result = sum_even_numbers(numbers)\n",
    "print(result)"
   ]
  },
  {
   "cell_type": "code",
   "execution_count": null,
   "id": "77985dd1-4073-42cb-b370-c7979c90dda8",
   "metadata": {},
   "outputs": [],
   "source": [
    "def power(x, n):\n",
    "    if n == 0:\n",
    "        return 1\n",
    "    elif n % 2 == 0:\n",
    "        return power(x * x, n // 2)\n",
    "    else:\n",
    "        return x * power(x * x, (n - 1) // 2)\n",
    "\n",
    "x = 2\n",
    "n = 5\n",
    "result = power(x, n)\n",
    "print(result) "
   ]
  },
  {
   "cell_type": "code",
   "execution_count": null,
   "id": "411e033d-6974-49ca-9d78-571547fc8339",
   "metadata": {},
   "outputs": [],
   "source": [
    "def remove_duplicates(lst):\n",
    "    seen = set()\n",
    "    result = []\n",
    "    for item in lst:\n",
    "        if item not in seen:\n",
    "            seen.add(item)\n",
    "            result.append(item)\n",
    "    return result\n",
    "\n",
    "lst = [1, 3, 2, 1, 4, 3, 5, 6, 5]\n",
    "result = remove_duplicates(lst)\n",
    "print(result)"
   ]
  },
  {
   "cell_type": "code",
   "execution_count": null,
   "id": "5d343109-03cb-4668-9561-ee7117a1736a",
   "metadata": {},
   "outputs": [],
   "source": [
    "def longest_common_prefix(strs):\n",
    "    if not strs:\n",
    "        return \"\"\n",
    "    prefix = strs[0]\n",
    "    for s in strs[1:]:\n",
    "        while s[:len(prefix)] != prefix:\n",
    "            prefix = prefix[:-1]\n",
    "            if not prefix:\n",
    "                return \"\"\n",
    "    return prefix\n",
    "\n",
    "strs = [\"flower\", \"flow\", \"flight\"]\n",
    "result = longest_common_prefix(strs)\n",
    "print(result)"
   ]
  },
  {
   "cell_type": "code",
   "execution_count": null,
   "id": "47dc5bb8-d160-486c-af69-46c3867271e9",
   "metadata": {},
   "outputs": [],
   "source": [
    "def is_perfect_square(n):\n",
    "    root = int(n ** 0.5)\n",
    "    return root * root == n\n",
    "\n",
    "n = 49\n",
    "result = is_perfect_square(n)\n",
    "print(result)"
   ]
  },
  {
   "cell_type": "code",
   "execution_count": null,
   "id": "7f34d6cd-3420-414d-8fbf-27c69c8a8e88",
   "metadata": {},
   "outputs": [],
   "source": [
    "from functools import reduce\n",
    "\n",
    "def product(numbers):\n",
    "    return reduce(lambda x, y: x * y, numbers)\n",
    "\n",
    "numbers = [1, 2, 3, 4, 5]\n",
    "result = product(numbers)\n",
    "print(result) "
   ]
  },
  {
   "cell_type": "code",
   "execution_count": null,
   "id": "d2aae11b-efa2-404e-acea-a82e83c71ad9",
   "metadata": {},
   "outputs": [],
   "source": [
    "def reverse_words_preserve_order(sentence):\n",
    "    words = sentence.split()\n",
    "    words.reverse()\n",
    "    return \" \".join(words[::-1])\n",
    "\n",
    "sentence = \"Hello World, how are you?\"\n",
    "result = reverse_words_preserve_order(sentence)\n",
    "print(result)"
   ]
  },
  {
   "cell_type": "code",
   "execution_count": null,
   "id": "2a66ad63-309b-4f1c-8092-3f34da77d430",
   "metadata": {},
   "outputs": [],
   "source": [
    "def find_missing_number(numbers):\n",
    "    n = len(numbers) + 1\n",
    "    expected_sum = n * (n + 1) // 2\n",
    "    actual_sum = sum(numbers)\n",
    "    return expected_sum - actual_sum\n",
    "\n",
    "numbers = [1, 2, 4, 5, 6]\n",
    "result = find_missing_number(numbers)\n",
    "print(result)"
   ]
  },
  {
   "cell_type": "code",
   "execution_count": null,
   "id": "28c7f5f8-3e52-4d46-bf07-46e9eedbd3d7",
   "metadata": {},
   "outputs": [],
   "source": [
    "def sum_of_digits(n):\n",
    "    total = 0\n",
    "    while n > 0:\n",
    "        total += n % 10\n",
    "        n //= 10\n",
    "    return total\n",
    "\n",
    "n = 12345\n",
    "result = sum_of_digits(n)\n",
    "print(result) "
   ]
  },
  {
   "cell_type": "code",
   "execution_count": null,
   "id": "4fbd7087-6586-4d3a-817e-f184a7a58730",
   "metadata": {},
   "outputs": [],
   "source": [
    "def is_palindrome_case_sensitive(s):\n",
    "    return s == s[::-1]\n",
    "\n",
    "string = \"racecar\"\n",
    "result = is_palindrome_case_sensitive(string)\n",
    "print(result) "
   ]
  },
  {
   "cell_type": "code",
   "execution_count": null,
   "id": "0e384492-724d-42a1-a0ed-13048a7f868f",
   "metadata": {},
   "outputs": [],
   "source": [
    "def find_missing_positive(numbers):\n",
    "    n = len(numbers)\n",
    "    for i in range(n):\n",
    "        if numbers[i] > 0 and numbers[i] <= n and numbers[numbers[i] - 1] != numbers[i]:\n",
    "            numbers[numbers[i] - 1], numbers[i] = numbers[i], numbers[numbers[i] - 1]\n",
    "    for i in range(n):\n",
    "        if numbers[i] != i + 1:\n",
    "            return i + 1\n",
    "    return n + 1\n",
    "\n",
    "numbers = [3, 4, -1, 1]\n",
    "result = find_missing_positive(numbers)\n",
    "print(result) "
   ]
  },
  {
   "cell_type": "code",
   "execution_count": null,
   "id": "bdf75b95-0fd2-4167-b8c1-1b0b9991f6e2",
   "metadata": {},
   "outputs": [],
   "source": [
    "def longest_palindrome(s):\n",
    "    def expand_around_center(left, right):\n",
    "        while left >= 0 and right < len(s) and s[left] == s[right]:\n",
    "            left -= 1\n",
    "            right += 1\n",
    "        return right - left - 1\n",
    "\n",
    "    start = end = 0\n",
    "    for i in range(len(s)):\n",
    "        len1 = expand_around_center(i, i)\n",
    "        len2 = expand_around_center(i, i + 1)\n",
    "        length = max(len1, len2)\n",
    "        if length > end - start:\n",
    "            start = i - (length - 1) // 2\n",
    "            end = i + length // 2\n",
    "    return s[start:end + 1]\n",
    "\n",
    "string = \"babad\"\n",
    "result = longest_palindrome(string)\n",
    "print(result)"
   ]
  },
  {
   "cell_type": "code",
   "execution_count": null,
   "id": "6a7d93c5-d462-47ec-ba71-c50cd22a1f66",
   "metadata": {},
   "outputs": [],
   "source": []
  },
  {
   "cell_type": "code",
   "execution_count": null,
   "id": "6aeaad99-d4ea-40b0-9674-256ab5676ddf",
   "metadata": {},
   "outputs": [],
   "source": []
  },
  {
   "cell_type": "code",
   "execution_count": null,
   "id": "76ed2695-1582-4830-a231-0c8af151ab70",
   "metadata": {},
   "outputs": [],
   "source": []
  },
  {
   "cell_type": "code",
   "execution_count": null,
   "id": "b93330e6-c1c8-4df9-a95c-ec07d04717d9",
   "metadata": {},
   "outputs": [],
   "source": []
  },
  {
   "cell_type": "code",
   "execution_count": null,
   "id": "a5b459f3-a363-4744-bcfb-703d034d35c2",
   "metadata": {},
   "outputs": [],
   "source": []
  },
  {
   "cell_type": "code",
   "execution_count": null,
   "id": "a943e8fe-ce8c-40bd-9346-1974beafb503",
   "metadata": {},
   "outputs": [],
   "source": []
  },
  {
   "cell_type": "code",
   "execution_count": null,
   "id": "68934c07-d523-4690-b4c8-e4bb9306d623",
   "metadata": {},
   "outputs": [],
   "source": []
  }
 ],
 "metadata": {
  "kernelspec": {
   "display_name": "Python 3 (ipykernel)",
   "language": "python",
   "name": "python3"
  },
  "language_info": {
   "codemirror_mode": {
    "name": "ipython",
    "version": 3
   },
   "file_extension": ".py",
   "mimetype": "text/x-python",
   "name": "python",
   "nbconvert_exporter": "python",
   "pygments_lexer": "ipython3",
   "version": "3.10.6"
  }
 },
 "nbformat": 4,
 "nbformat_minor": 5
}
