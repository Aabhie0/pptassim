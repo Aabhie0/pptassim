{
 "cells": [
  {
   "cell_type": "code",
   "execution_count": null,
   "id": "f5fe77fc-3479-48b7-bcdd-107eefd48c62",
   "metadata": {},
   "outputs": [],
   "source": [
    "class Solution:\n",
    "    def mergeKLists(self, lists: List[Optional[ListNode]]) -> Optional[ListNode]:\n",
    "\n",
    "        head = temp = ListNode()\n",
    "        arr = []\n",
    "\n",
    "        for ls in lists:\n",
    "            while ls:\n",
    "                arr.append(ls.val)\n",
    "                ls = ls.next\n",
    "\n",
    "        for val in sorted(arr):\n",
    "            temp.next = ListNode()\n",
    "            temp = temp.next\n",
    "            temp.val = val\n",
    "\n",
    "        return head.next"
   ]
  },
  {
   "cell_type": "code",
   "execution_count": null,
   "id": "6e57cf6a-9c99-4fc9-8a4b-b28d60534deb",
   "metadata": {},
   "outputs": [],
   "source": []
  },
  {
   "cell_type": "code",
   "execution_count": null,
   "id": "b20b1476-fe4f-4b5d-a70a-0f50299bda44",
   "metadata": {},
   "outputs": [],
   "source": [
    "from sortedcontainers import SortedList\n",
    "\n",
    "class Solution(object):\n",
    "    def countSmaller(self, nums):\n",
    "        res = []\n",
    "        sorted_nums = SortedList(nums)\n",
    "        for e in nums:\n",
    "            idx = sorted_nums.index(e)\n",
    "            res.append(idx)\n",
    "            sorted_nums.remove(e)\n",
    "        return res"
   ]
  },
  {
   "cell_type": "code",
   "execution_count": null,
   "id": "bf34cfb5-0fe3-45bc-9967-745d59165c40",
   "metadata": {},
   "outputs": [],
   "source": []
  },
  {
   "cell_type": "code",
   "execution_count": null,
   "id": "cff55352-251a-430c-83ec-f770fabb5013",
   "metadata": {},
   "outputs": [],
   "source": [
    "class Solution:\n",
    "    def sortArray(self, nums: List[int]) -> List[int]:\n",
    "        nums.sort()\n",
    "        return nums"
   ]
  },
  {
   "cell_type": "code",
   "execution_count": null,
   "id": "015e6ac8-f812-4533-a910-dc67fa9f332b",
   "metadata": {},
   "outputs": [],
   "source": []
  },
  {
   "cell_type": "code",
   "execution_count": null,
   "id": "2484110d-228e-45eb-b3c4-3e3deaab18f6",
   "metadata": {},
   "outputs": [],
   "source": [
    "A = [6, 6, 0, 0, 6, 0, 9, 1, 8]\n",
    "n = len(A)\n",
    "j = 0\n",
    "for i in range(n):\n",
    "    if A[i] != 0:\n",
    "        A[j], A[i] = A[i], A[j]  # Partitioning the array\n",
    "        j += 1\n",
    "print(A)"
   ]
  },
  {
   "cell_type": "code",
   "execution_count": null,
   "id": "23dbc1ae-3d59-467e-b31a-c24caa74a029",
   "metadata": {},
   "outputs": [],
   "source": []
  },
  {
   "cell_type": "code",
   "execution_count": null,
   "id": "3d3f6cc1-5ed9-41d3-8bfc-42f86bd71eef",
   "metadata": {},
   "outputs": [],
   "source": [
    "def rightRotate(arr, n, outOfPlace, cur):\n",
    "    temp = arr[cur]\n",
    "    for i in range(cur, outOfPlace, -1):\n",
    "        arr[i] = arr[i - 1]\n",
    "    arr[outOfPlace] = temp\n",
    "    return arr\n",
    " \n",
    " \n",
    " def rearrange(arr, n):\n",
    "    outOfPlace = -1\n",
    "    for index in range(n):\n",
    "        if(outOfPlace >= 0):\n",
    "            \n",
    "            \n",
    "            if((arr[index] >= 0 and arr[outOfPlace] < 0) or\n",
    "               (arr[index] < 0 and arr[outOfPlace] >= 0)):\n",
    "                arr = rightRotate(arr, n, outOfPlace, index)\n",
    "                if(index-outOfPlace > 2):\n",
    "                    outOfPlace += 2\n",
    "                else:\n",
    "                    outOfPlace = - 1\n",
    " \n",
    "        if(outOfPlace == -1):\n",
    " \n",
    "            # conditions for A[index] to\n",
    "            # be in out of place\n",
    "            if((arr[index] >= 0 and index % 2 == 0) or\n",
    "               (arr[index] < 0 and index % 2 == 1)):\n",
    "                outOfPlace = index\n",
    "    return arr\n",
    " \n",
    "    \n",
    "    arr = []\n",
    "    \n",
    "    print(\"Given Array is:\")\n",
    "print(arr)\n",
    " \n",
    "print(\"\\nRearranged array is:\")\n",
    "print(rearrange(arr, len(arr)))\n",
    "    \n",
    "    \n",
    "    "
   ]
  },
  {
   "cell_type": "code",
   "execution_count": null,
   "id": "5595342b-49b1-480d-b810-9b23feb555a3",
   "metadata": {},
   "outputs": [],
   "source": []
  },
  {
   "cell_type": "code",
   "execution_count": null,
   "id": "8fc4038f-1744-427e-abbe-7e224460b754",
   "metadata": {},
   "outputs": [],
   "source": [
    "def mergeArrays(arr1, arr2, n1, n2, arr3):\n",
    "    i = 0\n",
    "    j = 0\n",
    "    k = 0\n",
    " \n",
    "    # traverse the arr1 and insert its element in arr3\n",
    "    while(i < n1):\n",
    "        arr3[k] = arr1[i]\n",
    "        k += 1\n",
    "        i += 1\n",
    " \n",
    "    # now traverse arr2 and insert in arr3\n",
    "    while(j < n2):\n",
    "        arr3[k] = arr2[j]\n",
    "        k += 1\n",
    "        j += 1\n",
    " \n",
    "    # sort the whole array arr3\n",
    "    arr3.sort()\n",
    "    if __name__ == '__main__':\n",
    "    arr1 = [1, 3, 5, 7]\n",
    "    n1 = len(arr1)\n",
    " \n",
    "    arr2 = [2, 4, 6, 8]\n",
    "    n2 = len(arr2)\n",
    " \n",
    "    arr3 = [0 for i in range(n1+n2)]\n",
    "    mergeArrays(arr1, arr2, n1, n2, arr3)\n",
    " \n",
    "    print(\"Array after merging\")\n",
    "    for i in range(n1 + n2):\n",
    "        print(arr3[i], end=\" \")"
   ]
  },
  {
   "cell_type": "code",
   "execution_count": null,
   "id": "23b075b3-50c5-40bd-afe4-a19c20a15dc9",
   "metadata": {},
   "outputs": [],
   "source": []
  },
  {
   "cell_type": "code",
   "execution_count": null,
   "id": "650ee6a4-10ea-4b1d-ab40-e80133d887f3",
   "metadata": {},
   "outputs": [],
   "source": [
    "class Solution(object):\n",
    "    def intersection(self, nums1, nums2):\n",
    "        v = set()\n",
    "        nums1 = set(nums1)\n",
    "        for i in nums1:\n",
    "            if i in nums2:\n",
    "                v.add(i)\n",
    "        return list(v)"
   ]
  },
  {
   "cell_type": "code",
   "execution_count": null,
   "id": "487f27f9-421d-4b26-8e95-b2d36fa90ede",
   "metadata": {},
   "outputs": [],
   "source": []
  },
  {
   "cell_type": "code",
   "execution_count": null,
   "id": "1c467200-d5b0-4abc-bc1b-8fe7a82605d7",
   "metadata": {},
   "outputs": [],
   "source": []
  },
  {
   "cell_type": "code",
   "execution_count": null,
   "id": "1d1b8835-5c6d-4d7a-b6c2-3cb48ca2df0b",
   "metadata": {},
   "outputs": [],
   "source": []
  },
  {
   "cell_type": "code",
   "execution_count": null,
   "id": "0231bb02-920f-4fb2-b4eb-ebf60ed1b211",
   "metadata": {},
   "outputs": [],
   "source": []
  }
 ],
 "metadata": {
  "kernelspec": {
   "display_name": "Python 3 (ipykernel)",
   "language": "python",
   "name": "python3"
  },
  "language_info": {
   "codemirror_mode": {
    "name": "ipython",
    "version": 3
   },
   "file_extension": ".py",
   "mimetype": "text/x-python",
   "name": "python",
   "nbconvert_exporter": "python",
   "pygments_lexer": "ipython3",
   "version": "3.10.6"
  }
 },
 "nbformat": 4,
 "nbformat_minor": 5
}
